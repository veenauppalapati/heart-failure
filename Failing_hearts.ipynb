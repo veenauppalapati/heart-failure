{
 "cells": [
  {
   "cell_type": "code",
   "execution_count": 23,
   "metadata": {},
   "outputs": [],
   "source": [
    "\n",
    "import kagglehub\n",
    "import pandas as pd\n",
    "import numpy as np\n",
    "import matplotlib.pyplot as plt\n",
    "from sklearn.preprocessing import  OneHotEncoder, MinMaxScaler\n",
    "from sklearn.model_selection import train_test_split\n",
    "from sklearn.ensemble import GradientBoostingClassifier, AdaBoostClassifier, ExtraTreesClassifier, RandomForestClassifier, HistGradientBoostingClassifier\n",
    "from sklearn.tree import DecisionTreeClassifier\n",
    "\n",
    "from tqdm import tqdm\n",
    "\n",
    "\n",
    "# Download latest version of the dataset and save the path in which it was downloaded to\n",
    "path = kagglehub.dataset_download(\"fedesoriano/heart-failure-prediction\")  \n",
    "\n"
   ]
  },
  {
   "cell_type": "code",
   "execution_count": 24,
   "metadata": {},
   "outputs": [
    {
     "data": {
      "text/html": [
       "<div>\n",
       "<style scoped>\n",
       "    .dataframe tbody tr th:only-of-type {\n",
       "        vertical-align: middle;\n",
       "    }\n",
       "\n",
       "    .dataframe tbody tr th {\n",
       "        vertical-align: top;\n",
       "    }\n",
       "\n",
       "    .dataframe thead th {\n",
       "        text-align: right;\n",
       "    }\n",
       "</style>\n",
       "<table border=\"1\" class=\"dataframe\">\n",
       "  <thead>\n",
       "    <tr style=\"text-align: right;\">\n",
       "      <th></th>\n",
       "      <th>Age</th>\n",
       "      <th>Sex</th>\n",
       "      <th>ChestPainType</th>\n",
       "      <th>RestingBP</th>\n",
       "      <th>Cholesterol</th>\n",
       "      <th>FastingBS</th>\n",
       "      <th>RestingECG</th>\n",
       "      <th>MaxHR</th>\n",
       "      <th>ExerciseAngina</th>\n",
       "      <th>Oldpeak</th>\n",
       "      <th>ST_Slope</th>\n",
       "      <th>HeartDisease</th>\n",
       "    </tr>\n",
       "  </thead>\n",
       "  <tbody>\n",
       "    <tr>\n",
       "      <th>0</th>\n",
       "      <td>40</td>\n",
       "      <td>M</td>\n",
       "      <td>ATA</td>\n",
       "      <td>140</td>\n",
       "      <td>289</td>\n",
       "      <td>0</td>\n",
       "      <td>Normal</td>\n",
       "      <td>172</td>\n",
       "      <td>N</td>\n",
       "      <td>0.0</td>\n",
       "      <td>Up</td>\n",
       "      <td>0</td>\n",
       "    </tr>\n",
       "    <tr>\n",
       "      <th>1</th>\n",
       "      <td>49</td>\n",
       "      <td>F</td>\n",
       "      <td>NAP</td>\n",
       "      <td>160</td>\n",
       "      <td>180</td>\n",
       "      <td>0</td>\n",
       "      <td>Normal</td>\n",
       "      <td>156</td>\n",
       "      <td>N</td>\n",
       "      <td>1.0</td>\n",
       "      <td>Flat</td>\n",
       "      <td>1</td>\n",
       "    </tr>\n",
       "    <tr>\n",
       "      <th>2</th>\n",
       "      <td>37</td>\n",
       "      <td>M</td>\n",
       "      <td>ATA</td>\n",
       "      <td>130</td>\n",
       "      <td>283</td>\n",
       "      <td>0</td>\n",
       "      <td>ST</td>\n",
       "      <td>98</td>\n",
       "      <td>N</td>\n",
       "      <td>0.0</td>\n",
       "      <td>Up</td>\n",
       "      <td>0</td>\n",
       "    </tr>\n",
       "    <tr>\n",
       "      <th>3</th>\n",
       "      <td>48</td>\n",
       "      <td>F</td>\n",
       "      <td>ASY</td>\n",
       "      <td>138</td>\n",
       "      <td>214</td>\n",
       "      <td>0</td>\n",
       "      <td>Normal</td>\n",
       "      <td>108</td>\n",
       "      <td>Y</td>\n",
       "      <td>1.5</td>\n",
       "      <td>Flat</td>\n",
       "      <td>1</td>\n",
       "    </tr>\n",
       "    <tr>\n",
       "      <th>4</th>\n",
       "      <td>54</td>\n",
       "      <td>M</td>\n",
       "      <td>NAP</td>\n",
       "      <td>150</td>\n",
       "      <td>195</td>\n",
       "      <td>0</td>\n",
       "      <td>Normal</td>\n",
       "      <td>122</td>\n",
       "      <td>N</td>\n",
       "      <td>0.0</td>\n",
       "      <td>Up</td>\n",
       "      <td>0</td>\n",
       "    </tr>\n",
       "  </tbody>\n",
       "</table>\n",
       "</div>"
      ],
      "text/plain": [
       "   Age Sex ChestPainType  RestingBP  Cholesterol  FastingBS RestingECG  MaxHR  \\\n",
       "0   40   M           ATA        140          289          0     Normal    172   \n",
       "1   49   F           NAP        160          180          0     Normal    156   \n",
       "2   37   M           ATA        130          283          0         ST     98   \n",
       "3   48   F           ASY        138          214          0     Normal    108   \n",
       "4   54   M           NAP        150          195          0     Normal    122   \n",
       "\n",
       "  ExerciseAngina  Oldpeak ST_Slope  HeartDisease  \n",
       "0              N      0.0       Up             0  \n",
       "1              N      1.0     Flat             1  \n",
       "2              N      0.0       Up             0  \n",
       "3              Y      1.5     Flat             1  \n",
       "4              N      0.0       Up             0  "
      ]
     },
     "execution_count": 24,
     "metadata": {},
     "output_type": "execute_result"
    }
   ],
   "source": [
    "#Read in the heart data\n",
    "heart_data = pd.read_csv(f\"{path}/heart.csv\")\n",
    "\n",
    "heart_data.head()\n"
   ]
  },
  {
   "cell_type": "code",
   "execution_count": 25,
   "metadata": {},
   "outputs": [
    {
     "name": "stdout",
     "output_type": "stream",
     "text": [
      "     Sex_F  Sex_M  ChestPainType_ASY  ChestPainType_ATA  ChestPainType_NAP  \\\n",
      "0      0.0    1.0                0.0                1.0                0.0   \n",
      "1      1.0    0.0                0.0                0.0                1.0   \n",
      "2      0.0    1.0                0.0                1.0                0.0   \n",
      "3      1.0    0.0                1.0                0.0                0.0   \n",
      "4      0.0    1.0                0.0                0.0                1.0   \n",
      "..     ...    ...                ...                ...                ...   \n",
      "913    0.0    1.0                0.0                0.0                0.0   \n",
      "914    0.0    1.0                1.0                0.0                0.0   \n",
      "915    0.0    1.0                1.0                0.0                0.0   \n",
      "916    1.0    0.0                0.0                1.0                0.0   \n",
      "917    0.0    1.0                0.0                0.0                1.0   \n",
      "\n",
      "     ChestPainType_TA  RestingECG_LVH  RestingECG_Normal  RestingECG_ST  \\\n",
      "0                 0.0             0.0                1.0            0.0   \n",
      "1                 0.0             0.0                1.0            0.0   \n",
      "2                 0.0             0.0                0.0            1.0   \n",
      "3                 0.0             0.0                1.0            0.0   \n",
      "4                 0.0             0.0                1.0            0.0   \n",
      "..                ...             ...                ...            ...   \n",
      "913               1.0             0.0                1.0            0.0   \n",
      "914               0.0             0.0                1.0            0.0   \n",
      "915               0.0             0.0                1.0            0.0   \n",
      "916               0.0             1.0                0.0            0.0   \n",
      "917               0.0             0.0                1.0            0.0   \n",
      "\n",
      "     ExerciseAngina_N  ExerciseAngina_Y  ST_Slope_Down  ST_Slope_Flat  \\\n",
      "0                 1.0               0.0            0.0            0.0   \n",
      "1                 1.0               0.0            0.0            1.0   \n",
      "2                 1.0               0.0            0.0            0.0   \n",
      "3                 0.0               1.0            0.0            1.0   \n",
      "4                 1.0               0.0            0.0            0.0   \n",
      "..                ...               ...            ...            ...   \n",
      "913               1.0               0.0            0.0            1.0   \n",
      "914               1.0               0.0            0.0            1.0   \n",
      "915               0.0               1.0            0.0            1.0   \n",
      "916               1.0               0.0            0.0            1.0   \n",
      "917               1.0               0.0            0.0            0.0   \n",
      "\n",
      "     ST_Slope_Up  \n",
      "0            1.0  \n",
      "1            0.0  \n",
      "2            1.0  \n",
      "3            0.0  \n",
      "4            1.0  \n",
      "..           ...  \n",
      "913          0.0  \n",
      "914          0.0  \n",
      "915          0.0  \n",
      "916          0.0  \n",
      "917          1.0  \n",
      "\n",
      "[918 rows x 14 columns]\n"
     ]
    },
    {
     "data": {
      "text/html": [
       "<div>\n",
       "<style scoped>\n",
       "    .dataframe tbody tr th:only-of-type {\n",
       "        vertical-align: middle;\n",
       "    }\n",
       "\n",
       "    .dataframe tbody tr th {\n",
       "        vertical-align: top;\n",
       "    }\n",
       "\n",
       "    .dataframe thead th {\n",
       "        text-align: right;\n",
       "    }\n",
       "</style>\n",
       "<table border=\"1\" class=\"dataframe\">\n",
       "  <thead>\n",
       "    <tr style=\"text-align: right;\">\n",
       "      <th></th>\n",
       "      <th>Age</th>\n",
       "      <th>RestingBP</th>\n",
       "      <th>Cholesterol</th>\n",
       "      <th>FastingBS</th>\n",
       "      <th>MaxHR</th>\n",
       "      <th>Oldpeak</th>\n",
       "      <th>HeartDisease</th>\n",
       "      <th>Sex_F</th>\n",
       "      <th>Sex_M</th>\n",
       "      <th>ChestPainType_ASY</th>\n",
       "      <th>...</th>\n",
       "      <th>ChestPainType_NAP</th>\n",
       "      <th>ChestPainType_TA</th>\n",
       "      <th>RestingECG_LVH</th>\n",
       "      <th>RestingECG_Normal</th>\n",
       "      <th>RestingECG_ST</th>\n",
       "      <th>ExerciseAngina_N</th>\n",
       "      <th>ExerciseAngina_Y</th>\n",
       "      <th>ST_Slope_Down</th>\n",
       "      <th>ST_Slope_Flat</th>\n",
       "      <th>ST_Slope_Up</th>\n",
       "    </tr>\n",
       "  </thead>\n",
       "  <tbody>\n",
       "    <tr>\n",
       "      <th>0</th>\n",
       "      <td>40.0</td>\n",
       "      <td>140.0</td>\n",
       "      <td>289.0</td>\n",
       "      <td>0.0</td>\n",
       "      <td>172.0</td>\n",
       "      <td>0.0</td>\n",
       "      <td>0.0</td>\n",
       "      <td>0.0</td>\n",
       "      <td>1.0</td>\n",
       "      <td>0.0</td>\n",
       "      <td>...</td>\n",
       "      <td>0.0</td>\n",
       "      <td>0.0</td>\n",
       "      <td>0.0</td>\n",
       "      <td>1.0</td>\n",
       "      <td>0.0</td>\n",
       "      <td>1.0</td>\n",
       "      <td>0.0</td>\n",
       "      <td>0.0</td>\n",
       "      <td>0.0</td>\n",
       "      <td>1.0</td>\n",
       "    </tr>\n",
       "    <tr>\n",
       "      <th>1</th>\n",
       "      <td>49.0</td>\n",
       "      <td>160.0</td>\n",
       "      <td>180.0</td>\n",
       "      <td>0.0</td>\n",
       "      <td>156.0</td>\n",
       "      <td>1.0</td>\n",
       "      <td>1.0</td>\n",
       "      <td>1.0</td>\n",
       "      <td>0.0</td>\n",
       "      <td>0.0</td>\n",
       "      <td>...</td>\n",
       "      <td>1.0</td>\n",
       "      <td>0.0</td>\n",
       "      <td>0.0</td>\n",
       "      <td>1.0</td>\n",
       "      <td>0.0</td>\n",
       "      <td>1.0</td>\n",
       "      <td>0.0</td>\n",
       "      <td>0.0</td>\n",
       "      <td>1.0</td>\n",
       "      <td>0.0</td>\n",
       "    </tr>\n",
       "    <tr>\n",
       "      <th>2</th>\n",
       "      <td>37.0</td>\n",
       "      <td>130.0</td>\n",
       "      <td>283.0</td>\n",
       "      <td>0.0</td>\n",
       "      <td>98.0</td>\n",
       "      <td>0.0</td>\n",
       "      <td>0.0</td>\n",
       "      <td>0.0</td>\n",
       "      <td>1.0</td>\n",
       "      <td>0.0</td>\n",
       "      <td>...</td>\n",
       "      <td>0.0</td>\n",
       "      <td>0.0</td>\n",
       "      <td>0.0</td>\n",
       "      <td>0.0</td>\n",
       "      <td>1.0</td>\n",
       "      <td>1.0</td>\n",
       "      <td>0.0</td>\n",
       "      <td>0.0</td>\n",
       "      <td>0.0</td>\n",
       "      <td>1.0</td>\n",
       "    </tr>\n",
       "    <tr>\n",
       "      <th>3</th>\n",
       "      <td>48.0</td>\n",
       "      <td>138.0</td>\n",
       "      <td>214.0</td>\n",
       "      <td>0.0</td>\n",
       "      <td>108.0</td>\n",
       "      <td>1.5</td>\n",
       "      <td>1.0</td>\n",
       "      <td>1.0</td>\n",
       "      <td>0.0</td>\n",
       "      <td>1.0</td>\n",
       "      <td>...</td>\n",
       "      <td>0.0</td>\n",
       "      <td>0.0</td>\n",
       "      <td>0.0</td>\n",
       "      <td>1.0</td>\n",
       "      <td>0.0</td>\n",
       "      <td>0.0</td>\n",
       "      <td>1.0</td>\n",
       "      <td>0.0</td>\n",
       "      <td>1.0</td>\n",
       "      <td>0.0</td>\n",
       "    </tr>\n",
       "    <tr>\n",
       "      <th>4</th>\n",
       "      <td>54.0</td>\n",
       "      <td>150.0</td>\n",
       "      <td>195.0</td>\n",
       "      <td>0.0</td>\n",
       "      <td>122.0</td>\n",
       "      <td>0.0</td>\n",
       "      <td>0.0</td>\n",
       "      <td>0.0</td>\n",
       "      <td>1.0</td>\n",
       "      <td>0.0</td>\n",
       "      <td>...</td>\n",
       "      <td>1.0</td>\n",
       "      <td>0.0</td>\n",
       "      <td>0.0</td>\n",
       "      <td>1.0</td>\n",
       "      <td>0.0</td>\n",
       "      <td>1.0</td>\n",
       "      <td>0.0</td>\n",
       "      <td>0.0</td>\n",
       "      <td>0.0</td>\n",
       "      <td>1.0</td>\n",
       "    </tr>\n",
       "  </tbody>\n",
       "</table>\n",
       "<p>5 rows × 21 columns</p>\n",
       "</div>"
      ],
      "text/plain": [
       "    Age  RestingBP  Cholesterol  FastingBS  MaxHR  Oldpeak  HeartDisease  \\\n",
       "0  40.0      140.0        289.0        0.0  172.0      0.0           0.0   \n",
       "1  49.0      160.0        180.0        0.0  156.0      1.0           1.0   \n",
       "2  37.0      130.0        283.0        0.0   98.0      0.0           0.0   \n",
       "3  48.0      138.0        214.0        0.0  108.0      1.5           1.0   \n",
       "4  54.0      150.0        195.0        0.0  122.0      0.0           0.0   \n",
       "\n",
       "   Sex_F  Sex_M  ChestPainType_ASY  ...  ChestPainType_NAP  ChestPainType_TA  \\\n",
       "0    0.0    1.0                0.0  ...                0.0               0.0   \n",
       "1    1.0    0.0                0.0  ...                1.0               0.0   \n",
       "2    0.0    1.0                0.0  ...                0.0               0.0   \n",
       "3    1.0    0.0                1.0  ...                0.0               0.0   \n",
       "4    0.0    1.0                0.0  ...                1.0               0.0   \n",
       "\n",
       "   RestingECG_LVH  RestingECG_Normal  RestingECG_ST  ExerciseAngina_N  \\\n",
       "0             0.0                1.0            0.0               1.0   \n",
       "1             0.0                1.0            0.0               1.0   \n",
       "2             0.0                0.0            1.0               1.0   \n",
       "3             0.0                1.0            0.0               0.0   \n",
       "4             0.0                1.0            0.0               1.0   \n",
       "\n",
       "   ExerciseAngina_Y  ST_Slope_Down  ST_Slope_Flat  ST_Slope_Up  \n",
       "0               0.0            0.0            0.0          1.0  \n",
       "1               0.0            0.0            1.0          0.0  \n",
       "2               0.0            0.0            0.0          1.0  \n",
       "3               1.0            0.0            1.0          0.0  \n",
       "4               0.0            0.0            0.0          1.0  \n",
       "\n",
       "[5 rows x 21 columns]"
      ]
     },
     "execution_count": 25,
     "metadata": {},
     "output_type": "execute_result"
    }
   ],
   "source": [
    "#First the one hot encoder needs to be applied to the columns\n",
    "#ChestPainType, RestingECG, ST_Slope\n",
    "to_encode = [\"Sex\", \"ChestPainType\", \"RestingECG\", \"ExerciseAngina\", \"ST_Slope\"]\n",
    "new_encoder = OneHotEncoder( sparse_output=False)\n",
    "encoded_heart = new_encoder.fit_transform(heart_data[to_encode])\n",
    "encoded_heart = pd.DataFrame(encoded_heart, columns=new_encoder.get_feature_names_out(to_encode), index=heart_data.index)\n",
    "print(encoded_heart)\n",
    "\n",
    "heart_data = pd.concat([heart_data, encoded_heart], axis=1)\n",
    "heart_data = heart_data.drop(columns=to_encode)\n",
    "#As a sanity check to make sure all values are numeric\n",
    "heart_data = heart_data.astype(float)\n",
    "heart_data.head()\n"
   ]
  },
  {
   "cell_type": "code",
   "execution_count": 26,
   "metadata": {},
   "outputs": [],
   "source": [
    "#Next the training changed_parameter need to be made\n",
    "target = heart_data['HeartDisease']\n",
    "x_data = heart_data.drop(columns=\"HeartDisease\")\n",
    "\n",
    "x_train, x_test, y_train, y_test = train_test_split(x_data, target)\n"
   ]
  },
  {
   "cell_type": "code",
   "execution_count": 27,
   "metadata": {},
   "outputs": [],
   "source": [
    "#Now apply the standard scaler to the x_train data\n",
    "\n",
    "scaler = MinMaxScaler()\n",
    "scaler.fit(x_train)\n",
    "x_train_scaled = scaler.transform(x_train)\n",
    "x_test_scaled = scaler.transform(x_test)"
   ]
  },
  {
   "cell_type": "code",
   "execution_count": 28,
   "metadata": {},
   "outputs": [
    {
     "name": "stderr",
     "output_type": "stream",
     "text": [
      "100%|██████████| 19/19 [00:00<00:00, 231.65it/s]\n"
     ]
    },
    {
     "data": {
      "image/png": "[encoded data removed]",
      "text/plain": [
       "<Figure size 640x480 with 1 Axes>"
      ]
     },
     "metadata": {},
     "output_type": "display_data"
    },
    {
     "name": "stderr",
     "output_type": "stream",
     "text": [
      "100%|██████████| 19/19 [00:00<00:00, 260.22it/s]\n"
     ]
    },
    {
     "data": {
      "image/png": "[encoded data removed]",
      "text/plain": [
       "<Figure size 640x480 with 1 Axes>"
      ]
     },
     "metadata": {},
     "output_type": "display_data"
    }
   ],
   "source": [
    "\n",
    "#These variables are used to store the parameter being changed to improve fit as well as the accuracy scores for training and testing\n",
    "changed_parameter = []\n",
    "training_scores = []\n",
    "testing_scores = []\n",
    "\n",
    "\n",
    "#A for loop is used to fit the classifier to the scaled data\n",
    "#the tqdm package is used to estimate timing and to prevent the user from accidentally selecting too many parameters to change in the range\n",
    "for n_est in tqdm(np.arange(0.05, 1.0, 0.05)):\n",
    "        classy = DecisionTreeClassifier(min_samples_leaf=n_est)\n",
    "        changed_parameter.append(n_est)\n",
    "        classy.fit(x_train_scaled, y_train)\n",
    "        testing_scores.append(classy.score(x_test_scaled, y_test))\n",
    "        training_scores.append(classy.score(x_train_scaled, y_train))\n",
    "        y_pred_train = classy.predict(x_train_scaled)\n",
    "        y_pred_test = classy.predict(x_test_scaled)\n",
    "\n",
    "#To get a general sense of where accuracy is improving, a matplotlib graph is used\n",
    "#This also helps to narrow down or widen a range to use to optimize the best performing classifier later\n",
    "fig, ax = plt.subplots()\n",
    "ax.scatter(changed_parameter, testing_scores, c=\"blue\", label=\"Testing\")\n",
    "ax.scatter(changed_parameter, training_scores, c=\"red\", label=\"Training\")\n",
    "ax.legend()\n",
    "X_text = \"Minimum Leaf Samples\"\n",
    "plt.title(f\"{X_text} versus Accuracy\")\n",
    "plt.xlabel(X_text)\n",
    "plt.ylabel(\"Accuracy\")\n",
    "plt.show()\n",
    "\n",
    "\n",
    "#The for loop above is repeated for each classifier\n",
    "changed_parameter = []\n",
    "training_scores = []\n",
    "testing_scores = []\n",
    "\n",
    "for n_est in tqdm(np.arange(0.05, 1.0, 0.05)):\n",
    "        classy = DecisionTreeClassifier(min_samples_split=n_est)\n",
    "        changed_parameter.append(n_est)\n",
    "        classy.fit(x_train_scaled, y_train)\n",
    "        testing_scores.append(classy.score(x_test_scaled, y_test))\n",
    "        training_scores.append(classy.score(x_train_scaled, y_train))\n",
    "        y_pred_train = classy.predict(x_train_scaled)\n",
    "        y_pred_test = classy.predict(x_test_scaled)\n",
    "      \n",
    "fig, ax = plt.subplots()\n",
    "ax.scatter(changed_parameter, testing_scores, c=\"blue\", label=\"Testing\")\n",
    "ax.scatter(changed_parameter, training_scores, c=\"red\", label=\"Training\")\n",
    "ax.legend()\n",
    "X_text = \"Minimum Sample Split\"\n",
    "plt.title(f\"{X_text} versus Accuracy\")\n",
    "plt.xlabel(X_text)\n",
    "plt.ylabel(\"Accuracy\")\n",
    "plt.show()\n"
   ]
  },
  {
   "cell_type": "code",
   "execution_count": 53,
   "metadata": {},
   "outputs": [
    {
     "name": "stderr",
     "output_type": "stream",
     "text": [
      "100%|██████████| 99/99 [01:30<00:00,  1.09it/s]\n"
     ]
    },
    {
     "data": {
      "image/png": "[encoded data removed]",
      "text/plain": [
       "<Figure size 640x480 with 1 Axes>"
      ]
     },
     "metadata": {},
     "output_type": "display_data"
    },
    {
     "name": "stderr",
     "output_type": "stream",
     "text": [
      "100%|██████████| 19/19 [00:00<00:00, 40.33it/s]\n"
     ]
    },
    {
     "data": {
      "image/png": "[encoded data removed]",
      "text/plain": [
       "<Figure size 640x480 with 1 Axes>"
      ]
     },
     "metadata": {},
     "output_type": "display_data"
    },
    {
     "name": "stderr",
     "output_type": "stream",
     "text": [
      "100%|██████████| 8/8 [00:00<00:00, 41.66it/s]\n"
     ]
    },
    {
     "data": {
      "image/png": "[encoded data removed]",
      "text/plain": [
       "<Figure size 640x480 with 1 Axes>"
      ]
     },
     "metadata": {},
     "output_type": "display_data"
    },
    {
     "name": "stderr",
     "output_type": "stream",
     "text": [
      "100%|██████████| 9/9 [00:00<00:00, 59.99it/s]\n"
     ]
    },
    {
     "data": {
      "image/png": "[encoded data removed]",
      "text/plain": [
       "<Figure size 640x480 with 1 Axes>"
      ]
     },
     "metadata": {},
     "output_type": "display_data"
    }
   ],
   "source": [
    "\n",
    "\n",
    "changed_parameter = []\n",
    "training_scores = []\n",
    "testing_scores = []\n",
    "\n",
    "\n",
    "\n",
    "for n_est in tqdm(range(10, 1000, 10)):\n",
    "        classy = GradientBoostingClassifier(n_estimators=n_est)\n",
    "        changed_parameter.append(int(n_est))\n",
    "        classy.fit(x_train_scaled, y_train)\n",
    "        testing_scores.append(classy.score(x_test_scaled, y_test))\n",
    "        training_scores.append(classy.score(x_train_scaled, y_train))\n",
    "        y_pred_train = classy.predict(x_train_scaled)\n",
    "        y_pred_test = classy.predict(x_test_scaled)\n",
    "   \n",
    "X_text = \"Number of Estimators\"\n",
    "fig, ax = plt.subplots()\n",
    "ax.scatter(changed_parameter, testing_scores, c=\"blue\", label=\"Testing\")\n",
    "ax.scatter(changed_parameter, training_scores, c=\"red\", label=\"Training\")\n",
    "ax.legend()\n",
    "Y_text = \"Accuracy\"\n",
    "plt.title(f\"{X_text} versus {Y_text}\")\n",
    "plt.xlabel(X_text)\n",
    "plt.ylabel(Y_text)\n",
    "plt.show()\n",
    "\n",
    "\n",
    "changed_parameter = []\n",
    "training_scores = []\n",
    "testing_scores = []\n",
    "\n",
    "\n",
    "\n",
    "for lern in tqdm(np.arange(0.05, 1.0, 0.05)):\n",
    "        classy = GradientBoostingClassifier(n_estimators=10, learning_rate=lern)\n",
    "        changed_parameter.append(lern)\n",
    "        classy.fit(x_train_scaled, y_train)\n",
    "        testing_scores.append(classy.score(x_test_scaled, y_test))\n",
    "        training_scores.append(classy.score(x_train_scaled, y_train))\n",
    "        y_pred_train = classy.predict(x_train_scaled)\n",
    "        y_pred_test = classy.predict(x_test_scaled)\n",
    "\n",
    "        \n",
    "X_text = \"Learning Rate\"\n",
    "fig, ax = plt.subplots()\n",
    "ax.scatter(changed_parameter, testing_scores, c=\"blue\", label=\"Testing\")\n",
    "ax.scatter(changed_parameter, training_scores, c=\"red\", label=\"Training\")\n",
    "ax.legend()\n",
    "Y_text = \"Accuracy\"\n",
    "plt.title(f\"{X_text} versus {Y_text}\")\n",
    "plt.xlabel(X_text)\n",
    "plt.ylabel(Y_text)\n",
    "plt.show()\n",
    "\n",
    "\n",
    "\n",
    "\n",
    "\n",
    "changed_parameter = []\n",
    "training_scores = []\n",
    "testing_scores = []\n",
    "\n",
    "\n",
    "\n",
    "for split in tqdm(range(2, 10)):\n",
    "        classy = GradientBoostingClassifier(n_estimators=10, learning_rate=0.15, min_samples_split=split)\n",
    "        changed_parameter.append(split)\n",
    "        classy.fit(x_train_scaled, y_train)\n",
    "        testing_scores.append(classy.score(x_test_scaled, y_test))\n",
    "        training_scores.append(classy.score(x_train_scaled, y_train))\n",
    "        y_pred_train = classy.predict(x_train_scaled)\n",
    "        y_pred_test = classy.predict(x_test_scaled)\n",
    "\n",
    "        \n",
    "X_text = \"Minimum Sample Split\"\n",
    "fig, ax = plt.subplots()\n",
    "ax.scatter(changed_parameter, testing_scores, c=\"blue\", label=\"Testing\")\n",
    "ax.scatter(changed_parameter, training_scores, c=\"red\", label=\"Training\")\n",
    "ax.legend()\n",
    "Y_text = \"Accuracy\"\n",
    "plt.title(f\"{X_text} versus {Y_text}\")\n",
    "plt.xlabel(X_text)\n",
    "plt.ylabel(Y_text)\n",
    "plt.show()\n",
    "\n",
    "\n",
    "\n",
    "changed_parameter = []\n",
    "training_scores = []\n",
    "testing_scores = []\n",
    "\n",
    "\n",
    "for lern in tqdm(np.arange(0.05, 0.5, 0.05)):\n",
    "        classy = GradientBoostingClassifier(n_estimators=10, min_samples_leaf=lern)\n",
    "        changed_parameter.append(lern)\n",
    "        classy.fit(x_train_scaled, y_train)\n",
    "        testing_scores.append(classy.score(x_test_scaled, y_test))\n",
    "        training_scores.append(classy.score(x_train_scaled, y_train))\n",
    "        y_pred_train = classy.predict(x_train_scaled)\n",
    "        y_pred_test = classy.predict(x_test_scaled)\n",
    "      \n",
    "        \n",
    "fig, ax = plt.subplots()\n",
    "ax.scatter(changed_parameter, testing_scores, c=\"blue\", label=\"Testing\")\n",
    "ax.scatter(changed_parameter, training_scores, c=\"red\", label=\"Training\")\n",
    "ax.legend()\n",
    "X_text = \"Minimum Sample Leaf\"\n",
    "plt.title(f\"{X_text} versus Accuracy\")\n",
    "plt.xlabel(X_text)\n",
    "plt.ylabel(\"Accuracy\")\n",
    "plt.show()\n",
    "\n"
   ]
  },
  {
   "cell_type": "code",
   "execution_count": 30,
   "metadata": {},
   "outputs": [
    {
     "name": "stderr",
     "output_type": "stream",
     "text": [
      "  0%|          | 0/99 [00:00<?, ?it/s]c:\\Users\\Eza\\anaconda3\\envs\\dev\\lib\\site-packages\\sklearn\\ensemble\\_weight_boosting.py:519: FutureWarning: The SAMME.R algorithm (the default) is deprecated and will be removed in 1.6. Use the SAMME algorithm to circumvent this warning.\n",
      "  warnings.warn(\n",
      "c:\\Users\\Eza\\anaconda3\\envs\\dev\\lib\\site-packages\\sklearn\\ensemble\\_weight_boosting.py:519: FutureWarning: The SAMME.R algorithm (the default) is deprecated and will be removed in 1.6. Use the SAMME algorithm to circumvent this warning.\n",
      "  warnings.warn(\n",
      "  2%|▏         | 2/99 [00:00<00:04, 19.49it/s]c:\\Users\\Eza\\anaconda3\\envs\\dev\\lib\\site-packages\\sklearn\\ensemble\\_weight_boosting.py:519: FutureWarning: The SAMME.R algorithm (the default) is deprecated and will be removed in 1.6. Use the SAMME algorithm to circumvent this warning.\n",
      "  warnings.warn(\n",
      "c:\\Users\\Eza\\anaconda3\\envs\\dev\\lib\\site-packages\\sklearn\\ensemble\\_weight_boosting.py:519: FutureWarning: The SAMME.R algorithm (the default) is deprecated and will be removed in 1.6. Use the SAMME algorithm to circumvent this warning.\n",
      "  warnings.warn(\n",
      "  4%|▍         | 4/99 [00:00<00:08, 11.85it/s]c:\\Users\\Eza\\anaconda3\\envs\\dev\\lib\\site-packages\\sklearn\\ensemble\\_weight_boosting.py:519: FutureWarning: The SAMME.R algorithm (the default) is deprecated and will be removed in 1.6. Use the SAMME algorithm to circumvent this warning.\n",
      "  warnings.warn(\n",
      "c:\\Users\\Eza\\anaconda3\\envs\\dev\\lib\\site-packages\\sklearn\\ensemble\\_weight_boosting.py:519: FutureWarning: The SAMME.R algorithm (the default) is deprecated and will be removed in 1.6. Use the SAMME algorithm to circumvent this warning.\n",
      "  warnings.warn(\n",
      "  6%|▌         | 6/99 [00:00<00:11,  8.13it/s]c:\\Users\\Eza\\anaconda3\\envs\\dev\\lib\\site-packages\\sklearn\\ensemble\\_weight_boosting.py:519: FutureWarning: The SAMME.R algorithm (the default) is deprecated and will be removed in 1.6. Use the SAMME algorithm to circumvent this warning.\n",
      "  warnings.warn(\n",
      "c:\\Users\\Eza\\anaconda3\\envs\\dev\\lib\\site-packages\\sklearn\\ensemble\\_weight_boosting.py:519: FutureWarning: The SAMME.R algorithm (the default) is deprecated and will be removed in 1.6. Use the SAMME algorithm to circumvent this warning.\n",
      "  warnings.warn(\n",
      "  8%|▊         | 8/99 [00:01<00:14,  6.12it/s]c:\\Users\\Eza\\anaconda3\\envs\\dev\\lib\\site-packages\\sklearn\\ensemble\\_weight_boosting.py:519: FutureWarning: The SAMME.R algorithm (the default) is deprecated and will be removed in 1.6. Use the SAMME algorithm to circumvent this warning.\n",
      "  warnings.warn(\n",
      "  9%|▉         | 9/99 [00:01<00:16,  5.32it/s]c:\\Users\\Eza\\anaconda3\\envs\\dev\\lib\\site-packages\\sklearn\\ensemble\\_weight_boosting.py:519: FutureWarning: The SAMME.R algorithm (the default) is deprecated and will be removed in 1.6. Use the SAMME algorithm to circumvent this warning.\n",
      "  warnings.warn(\n",
      " 10%|█         | 10/99 [00:01<00:19,  4.64it/s]c:\\Users\\Eza\\anaconda3\\envs\\dev\\lib\\site-packages\\sklearn\\ensemble\\_weight_boosting.py:519: FutureWarning: The SAMME.R algorithm (the default) is deprecated and will be removed in 1.6. Use the SAMME algorithm to circumvent this warning.\n",
      "  warnings.warn(\n",
      " 11%|█         | 11/99 [00:02<00:21,  4.04it/s]c:\\Users\\Eza\\anaconda3\\envs\\dev\\lib\\site-packages\\sklearn\\ensemble\\_weight_boosting.py:519: FutureWarning: The SAMME.R algorithm (the default) is deprecated and will be removed in 1.6. Use the SAMME algorithm to circumvent this warning.\n",
      "  warnings.warn(\n",
      " 12%|█▏        | 12/99 [00:02<00:24,  3.56it/s]c:\\Users\\Eza\\anaconda3\\envs\\dev\\lib\\site-packages\\sklearn\\ensemble\\_weight_boosting.py:519: FutureWarning: The SAMME.R algorithm (the default) is deprecated and will be removed in 1.6. Use the SAMME algorithm to circumvent this warning.\n",
      "  warnings.warn(\n",
      " 13%|█▎        | 13/99 [00:02<00:26,  3.24it/s]c:\\Users\\Eza\\anaconda3\\envs\\dev\\lib\\site-packages\\sklearn\\ensemble\\_weight_boosting.py:519: FutureWarning: The SAMME.R algorithm (the default) is deprecated and will be removed in 1.6. Use the SAMME algorithm to circumvent this warning.\n",
      "  warnings.warn(\n",
      " 14%|█▍        | 14/99 [00:03<00:28,  2.95it/s]c:\\Users\\Eza\\anaconda3\\envs\\dev\\lib\\site-packages\\sklearn\\ensemble\\_weight_boosting.py:519: FutureWarning: The SAMME.R algorithm (the default) is deprecated and will be removed in 1.6. Use the SAMME algorithm to circumvent this warning.\n",
      "  warnings.warn(\n",
      " 15%|█▌        | 15/99 [00:03<00:31,  2.70it/s]c:\\Users\\Eza\\anaconda3\\envs\\dev\\lib\\site-packages\\sklearn\\ensemble\\_weight_boosting.py:519: FutureWarning: The SAMME.R algorithm (the default) is deprecated and will be removed in 1.6. Use the SAMME algorithm to circumvent this warning.\n",
      "  warnings.warn(\n",
      " 16%|█▌        | 16/99 [00:04<00:34,  2.44it/s]c:\\Users\\Eza\\anaconda3\\envs\\dev\\lib\\site-packages\\sklearn\\ensemble\\_weight_boosting.py:519: FutureWarning: The SAMME.R algorithm (the default) is deprecated and will be removed in 1.6. Use the SAMME algorithm to circumvent this warning.\n",
      "  warnings.warn(\n",
      " 17%|█▋        | 17/99 [00:04<00:35,  2.28it/s]c:\\Users\\Eza\\anaconda3\\envs\\dev\\lib\\site-packages\\sklearn\\ensemble\\_weight_boosting.py:519: FutureWarning: The SAMME.R algorithm (the default) is deprecated and will be removed in 1.6. Use the SAMME algorithm to circumvent this warning.\n",
      "  warnings.warn(\n",
      " 18%|█▊        | 18/99 [00:05<00:37,  2.14it/s]c:\\Users\\Eza\\anaconda3\\envs\\dev\\lib\\site-packages\\sklearn\\ensemble\\_weight_boosting.py:519: FutureWarning: The SAMME.R algorithm (the default) is deprecated and will be removed in 1.6. Use the SAMME algorithm to circumvent this warning.\n",
      "  warnings.warn(\n",
      " 19%|█▉        | 19/99 [00:05<00:39,  2.01it/s]c:\\Users\\Eza\\anaconda3\\envs\\dev\\lib\\site-packages\\sklearn\\ensemble\\_weight_boosting.py:519: FutureWarning: The SAMME.R algorithm (the default) is deprecated and will be removed in 1.6. Use the SAMME algorithm to circumvent this warning.\n",
      "  warnings.warn(\n",
      " 20%|██        | 20/99 [00:06<00:42,  1.88it/s]c:\\Users\\Eza\\anaconda3\\envs\\dev\\lib\\site-packages\\sklearn\\ensemble\\_weight_boosting.py:519: FutureWarning: The SAMME.R algorithm (the default) is deprecated and will be removed in 1.6. Use the SAMME algorithm to circumvent this warning.\n",
      "  warnings.warn(\n",
      " 21%|██        | 21/99 [00:07<00:44,  1.77it/s]c:\\Users\\Eza\\anaconda3\\envs\\dev\\lib\\site-packages\\sklearn\\ensemble\\_weight_boosting.py:519: FutureWarning: The SAMME.R algorithm (the default) is deprecated and will be removed in 1.6. Use the SAMME algorithm to circumvent this warning.\n",
      "  warnings.warn(\n",
      " 22%|██▏       | 22/99 [00:07<00:45,  1.68it/s]c:\\Users\\Eza\\anaconda3\\envs\\dev\\lib\\site-packages\\sklearn\\ensemble\\_weight_boosting.py:519: FutureWarning: The SAMME.R algorithm (the default) is deprecated and will be removed in 1.6. Use the SAMME algorithm to circumvent this warning.\n",
      "  warnings.warn(\n",
      " 23%|██▎       | 23/99 [00:08<00:47,  1.61it/s]c:\\Users\\Eza\\anaconda3\\envs\\dev\\lib\\site-packages\\sklearn\\ensemble\\_weight_boosting.py:519: FutureWarning: The SAMME.R algorithm (the default) is deprecated and will be removed in 1.6. Use the SAMME algorithm to circumvent this warning.\n",
      "  warnings.warn(\n",
      " 24%|██▍       | 24/99 [00:09<00:48,  1.53it/s]c:\\Users\\Eza\\anaconda3\\envs\\dev\\lib\\site-packages\\sklearn\\ensemble\\_weight_boosting.py:519: FutureWarning: The SAMME.R algorithm (the default) is deprecated and will be removed in 1.6. Use the SAMME algorithm to circumvent this warning.\n",
      "  warnings.warn(\n",
      " 25%|██▌       | 25/99 [00:09<00:50,  1.47it/s]c:\\Users\\Eza\\anaconda3\\envs\\dev\\lib\\site-packages\\sklearn\\ensemble\\_weight_boosting.py:519: FutureWarning: The SAMME.R algorithm (the default) is deprecated and will be removed in 1.6. Use the SAMME algorithm to circumvent this warning.\n",
      "  warnings.warn(\n",
      " 26%|██▋       | 26/99 [00:10<00:51,  1.41it/s]c:\\Users\\Eza\\anaconda3\\envs\\dev\\lib\\site-packages\\sklearn\\ensemble\\_weight_boosting.py:519: FutureWarning: The SAMME.R algorithm (the default) is deprecated and will be removed in 1.6. Use the SAMME algorithm to circumvent this warning.\n",
      "  warnings.warn(\n",
      " 27%|██▋       | 27/99 [00:11<00:53,  1.35it/s]c:\\Users\\Eza\\anaconda3\\envs\\dev\\lib\\site-packages\\sklearn\\ensemble\\_weight_boosting.py:519: FutureWarning: The SAMME.R algorithm (the default) is deprecated and will be removed in 1.6. Use the SAMME algorithm to circumvent this warning.\n",
      "  warnings.warn(\n",
      " 28%|██▊       | 28/99 [00:12<00:56,  1.27it/s]c:\\Users\\Eza\\anaconda3\\envs\\dev\\lib\\site-packages\\sklearn\\ensemble\\_weight_boosting.py:519: FutureWarning: The SAMME.R algorithm (the default) is deprecated and will be removed in 1.6. Use the SAMME algorithm to circumvent this warning.\n",
      "  warnings.warn(\n",
      " 29%|██▉       | 29/99 [00:13<00:56,  1.24it/s]c:\\Users\\Eza\\anaconda3\\envs\\dev\\lib\\site-packages\\sklearn\\ensemble\\_weight_boosting.py:519: FutureWarning: The SAMME.R algorithm (the default) is deprecated and will be removed in 1.6. Use the SAMME algorithm to circumvent this warning.\n",
      "  warnings.warn(\n",
      " 30%|███       | 30/99 [00:14<00:58,  1.19it/s]c:\\Users\\Eza\\anaconda3\\envs\\dev\\lib\\site-packages\\sklearn\\ensemble\\_weight_boosting.py:519: FutureWarning: The SAMME.R algorithm (the default) is deprecated and will be removed in 1.6. Use the SAMME algorithm to circumvent this warning.\n",
      "  warnings.warn(\n",
      " 31%|███▏      | 31/99 [00:15<00:58,  1.16it/s]c:\\Users\\Eza\\anaconda3\\envs\\dev\\lib\\site-packages\\sklearn\\ensemble\\_weight_boosting.py:519: FutureWarning: The SAMME.R algorithm (the default) is deprecated and will be removed in 1.6. Use the SAMME algorithm to circumvent this warning.\n",
      "  warnings.warn(\n",
      " 32%|███▏      | 32/99 [00:15<00:59,  1.13it/s]c:\\Users\\Eza\\anaconda3\\envs\\dev\\lib\\site-packages\\sklearn\\ensemble\\_weight_boosting.py:519: FutureWarning: The SAMME.R algorithm (the default) is deprecated and will be removed in 1.6. Use the SAMME algorithm to circumvent this warning.\n",
      "  warnings.warn(\n",
      " 33%|███▎      | 33/99 [00:16<01:01,  1.08it/s]c:\\Users\\Eza\\anaconda3\\envs\\dev\\lib\\site-packages\\sklearn\\ensemble\\_weight_boosting.py:519: FutureWarning: The SAMME.R algorithm (the default) is deprecated and will be removed in 1.6. Use the SAMME algorithm to circumvent this warning.\n",
      "  warnings.warn(\n",
      " 34%|███▍      | 34/99 [00:17<01:01,  1.05it/s]c:\\Users\\Eza\\anaconda3\\envs\\dev\\lib\\site-packages\\sklearn\\ensemble\\_weight_boosting.py:519: FutureWarning: The SAMME.R algorithm (the default) is deprecated and will be removed in 1.6. Use the SAMME algorithm to circumvent this warning.\n",
      "  warnings.warn(\n",
      " 35%|███▌      | 35/99 [00:19<01:02,  1.02it/s]c:\\Users\\Eza\\anaconda3\\envs\\dev\\lib\\site-packages\\sklearn\\ensemble\\_weight_boosting.py:519: FutureWarning: The SAMME.R algorithm (the default) is deprecated and will be removed in 1.6. Use the SAMME algorithm to circumvent this warning.\n",
      "  warnings.warn(\n",
      " 36%|███▋      | 36/99 [00:20<01:03,  1.01s/it]c:\\Users\\Eza\\anaconda3\\envs\\dev\\lib\\site-packages\\sklearn\\ensemble\\_weight_boosting.py:519: FutureWarning: The SAMME.R algorithm (the default) is deprecated and will be removed in 1.6. Use the SAMME algorithm to circumvent this warning.\n",
      "  warnings.warn(\n",
      " 37%|███▋      | 37/99 [00:21<01:04,  1.03s/it]c:\\Users\\Eza\\anaconda3\\envs\\dev\\lib\\site-packages\\sklearn\\ensemble\\_weight_boosting.py:519: FutureWarning: The SAMME.R algorithm (the default) is deprecated and will be removed in 1.6. Use the SAMME algorithm to circumvent this warning.\n",
      "  warnings.warn(\n",
      " 38%|███▊      | 38/99 [00:22<01:04,  1.06s/it]c:\\Users\\Eza\\anaconda3\\envs\\dev\\lib\\site-packages\\sklearn\\ensemble\\_weight_boosting.py:519: FutureWarning: The SAMME.R algorithm (the default) is deprecated and will be removed in 1.6. Use the SAMME algorithm to circumvent this warning.\n",
      "  warnings.warn(\n",
      " 39%|███▉      | 39/99 [00:23<01:05,  1.09s/it]c:\\Users\\Eza\\anaconda3\\envs\\dev\\lib\\site-packages\\sklearn\\ensemble\\_weight_boosting.py:519: FutureWarning: The SAMME.R algorithm (the default) is deprecated and will be removed in 1.6. Use the SAMME algorithm to circumvent this warning.\n",
      "  warnings.warn(\n",
      " 40%|████      | 40/99 [00:24<01:05,  1.12s/it]c:\\Users\\Eza\\anaconda3\\envs\\dev\\lib\\site-packages\\sklearn\\ensemble\\_weight_boosting.py:519: FutureWarning: The SAMME.R algorithm (the default) is deprecated and will be removed in 1.6. Use the SAMME algorithm to circumvent this warning.\n",
      "  warnings.warn(\n",
      " 41%|████▏     | 41/99 [00:25<01:06,  1.15s/it]c:\\Users\\Eza\\anaconda3\\envs\\dev\\lib\\site-packages\\sklearn\\ensemble\\_weight_boosting.py:519: FutureWarning: The SAMME.R algorithm (the default) is deprecated and will be removed in 1.6. Use the SAMME algorithm to circumvent this warning.\n",
      "  warnings.warn(\n",
      " 42%|████▏     | 42/99 [00:27<01:07,  1.19s/it]c:\\Users\\Eza\\anaconda3\\envs\\dev\\lib\\site-packages\\sklearn\\ensemble\\_weight_boosting.py:519: FutureWarning: The SAMME.R algorithm (the default) is deprecated and will be removed in 1.6. Use the SAMME algorithm to circumvent this warning.\n",
      "  warnings.warn(\n",
      " 43%|████▎     | 43/99 [00:28<01:08,  1.22s/it]c:\\Users\\Eza\\anaconda3\\envs\\dev\\lib\\site-packages\\sklearn\\ensemble\\_weight_boosting.py:519: FutureWarning: The SAMME.R algorithm (the default) is deprecated and will be removed in 1.6. Use the SAMME algorithm to circumvent this warning.\n",
      "  warnings.warn(\n",
      " 44%|████▍     | 44/99 [00:29<01:08,  1.24s/it]c:\\Users\\Eza\\anaconda3\\envs\\dev\\lib\\site-packages\\sklearn\\ensemble\\_weight_boosting.py:519: FutureWarning: The SAMME.R algorithm (the default) is deprecated and will be removed in 1.6. Use the SAMME algorithm to circumvent this warning.\n",
      "  warnings.warn(\n",
      " 45%|████▌     | 45/99 [00:31<01:09,  1.28s/it]c:\\Users\\Eza\\anaconda3\\envs\\dev\\lib\\site-packages\\sklearn\\ensemble\\_weight_boosting.py:519: FutureWarning: The SAMME.R algorithm (the default) is deprecated and will be removed in 1.6. Use the SAMME algorithm to circumvent this warning.\n",
      "  warnings.warn(\n",
      " 46%|████▋     | 46/99 [00:32<01:09,  1.32s/it]c:\\Users\\Eza\\anaconda3\\envs\\dev\\lib\\site-packages\\sklearn\\ensemble\\_weight_boosting.py:519: FutureWarning: The SAMME.R algorithm (the default) is deprecated and will be removed in 1.6. Use the SAMME algorithm to circumvent this warning.\n",
      "  warnings.warn(\n",
      " 47%|████▋     | 47/99 [00:33<01:10,  1.36s/it]c:\\Users\\Eza\\anaconda3\\envs\\dev\\lib\\site-packages\\sklearn\\ensemble\\_weight_boosting.py:519: FutureWarning: The SAMME.R algorithm (the default) is deprecated and will be removed in 1.6. Use the SAMME algorithm to circumvent this warning.\n",
      "  warnings.warn(\n",
      " 48%|████▊     | 48/99 [00:35<01:10,  1.38s/it]c:\\Users\\Eza\\anaconda3\\envs\\dev\\lib\\site-packages\\sklearn\\ensemble\\_weight_boosting.py:519: FutureWarning: The SAMME.R algorithm (the default) is deprecated and will be removed in 1.6. Use the SAMME algorithm to circumvent this warning.\n",
      "  warnings.warn(\n",
      " 49%|████▉     | 49/99 [00:36<01:10,  1.41s/it]c:\\Users\\Eza\\anaconda3\\envs\\dev\\lib\\site-packages\\sklearn\\ensemble\\_weight_boosting.py:519: FutureWarning: The SAMME.R algorithm (the default) is deprecated and will be removed in 1.6. Use the SAMME algorithm to circumvent this warning.\n",
      "  warnings.warn(\n",
      " 51%|█████     | 50/99 [00:38<01:10,  1.44s/it]c:\\Users\\Eza\\anaconda3\\envs\\dev\\lib\\site-packages\\sklearn\\ensemble\\_weight_boosting.py:519: FutureWarning: The SAMME.R algorithm (the default) is deprecated and will be removed in 1.6. Use the SAMME algorithm to circumvent this warning.\n",
      "  warnings.warn(\n",
      " 52%|█████▏    | 51/99 [00:39<01:10,  1.47s/it]c:\\Users\\Eza\\anaconda3\\envs\\dev\\lib\\site-packages\\sklearn\\ensemble\\_weight_boosting.py:519: FutureWarning: The SAMME.R algorithm (the default) is deprecated and will be removed in 1.6. Use the SAMME algorithm to circumvent this warning.\n",
      "  warnings.warn(\n",
      " 53%|█████▎    | 52/99 [00:41<01:10,  1.49s/it]c:\\Users\\Eza\\anaconda3\\envs\\dev\\lib\\site-packages\\sklearn\\ensemble\\_weight_boosting.py:519: FutureWarning: The SAMME.R algorithm (the default) is deprecated and will be removed in 1.6. Use the SAMME algorithm to circumvent this warning.\n",
      "  warnings.warn(\n",
      " 54%|█████▎    | 53/99 [00:43<01:09,  1.52s/it]c:\\Users\\Eza\\anaconda3\\envs\\dev\\lib\\site-packages\\sklearn\\ensemble\\_weight_boosting.py:519: FutureWarning: The SAMME.R algorithm (the default) is deprecated and will be removed in 1.6. Use the SAMME algorithm to circumvent this warning.\n",
      "  warnings.warn(\n",
      " 55%|█████▍    | 54/99 [00:44<01:09,  1.55s/it]c:\\Users\\Eza\\anaconda3\\envs\\dev\\lib\\site-packages\\sklearn\\ensemble\\_weight_boosting.py:519: FutureWarning: The SAMME.R algorithm (the default) is deprecated and will be removed in 1.6. Use the SAMME algorithm to circumvent this warning.\n",
      "  warnings.warn(\n",
      " 56%|█████▌    | 55/99 [00:46<01:09,  1.58s/it]c:\\Users\\Eza\\anaconda3\\envs\\dev\\lib\\site-packages\\sklearn\\ensemble\\_weight_boosting.py:519: FutureWarning: The SAMME.R algorithm (the default) is deprecated and will be removed in 1.6. Use the SAMME algorithm to circumvent this warning.\n",
      "  warnings.warn(\n",
      " 57%|█████▋    | 56/99 [00:47<01:08,  1.60s/it]c:\\Users\\Eza\\anaconda3\\envs\\dev\\lib\\site-packages\\sklearn\\ensemble\\_weight_boosting.py:519: FutureWarning: The SAMME.R algorithm (the default) is deprecated and will be removed in 1.6. Use the SAMME algorithm to circumvent this warning.\n",
      "  warnings.warn(\n",
      " 58%|█████▊    | 57/99 [00:49<01:08,  1.63s/it]c:\\Users\\Eza\\anaconda3\\envs\\dev\\lib\\site-packages\\sklearn\\ensemble\\_weight_boosting.py:519: FutureWarning: The SAMME.R algorithm (the default) is deprecated and will be removed in 1.6. Use the SAMME algorithm to circumvent this warning.\n",
      "  warnings.warn(\n",
      " 59%|█████▊    | 58/99 [00:51<01:08,  1.67s/it]c:\\Users\\Eza\\anaconda3\\envs\\dev\\lib\\site-packages\\sklearn\\ensemble\\_weight_boosting.py:519: FutureWarning: The SAMME.R algorithm (the default) is deprecated and will be removed in 1.6. Use the SAMME algorithm to circumvent this warning.\n",
      "  warnings.warn(\n",
      " 60%|█████▉    | 59/99 [00:53<01:07,  1.69s/it]c:\\Users\\Eza\\anaconda3\\envs\\dev\\lib\\site-packages\\sklearn\\ensemble\\_weight_boosting.py:519: FutureWarning: The SAMME.R algorithm (the default) is deprecated and will be removed in 1.6. Use the SAMME algorithm to circumvent this warning.\n",
      "  warnings.warn(\n",
      " 61%|██████    | 60/99 [00:54<01:06,  1.72s/it]c:\\Users\\Eza\\anaconda3\\envs\\dev\\lib\\site-packages\\sklearn\\ensemble\\_weight_boosting.py:519: FutureWarning: The SAMME.R algorithm (the default) is deprecated and will be removed in 1.6. Use the SAMME algorithm to circumvent this warning.\n",
      "  warnings.warn(\n",
      " 62%|██████▏   | 61/99 [00:56<01:06,  1.75s/it]c:\\Users\\Eza\\anaconda3\\envs\\dev\\lib\\site-packages\\sklearn\\ensemble\\_weight_boosting.py:519: FutureWarning: The SAMME.R algorithm (the default) is deprecated and will be removed in 1.6. Use the SAMME algorithm to circumvent this warning.\n",
      "  warnings.warn(\n",
      " 63%|██████▎   | 62/99 [00:58<01:05,  1.78s/it]c:\\Users\\Eza\\anaconda3\\envs\\dev\\lib\\site-packages\\sklearn\\ensemble\\_weight_boosting.py:519: FutureWarning: The SAMME.R algorithm (the default) is deprecated and will be removed in 1.6. Use the SAMME algorithm to circumvent this warning.\n",
      "  warnings.warn(\n",
      " 64%|██████▎   | 63/99 [01:00<01:05,  1.81s/it]c:\\Users\\Eza\\anaconda3\\envs\\dev\\lib\\site-packages\\sklearn\\ensemble\\_weight_boosting.py:519: FutureWarning: The SAMME.R algorithm (the default) is deprecated and will be removed in 1.6. Use the SAMME algorithm to circumvent this warning.\n",
      "  warnings.warn(\n",
      " 65%|██████▍   | 64/99 [01:02<01:04,  1.84s/it]c:\\Users\\Eza\\anaconda3\\envs\\dev\\lib\\site-packages\\sklearn\\ensemble\\_weight_boosting.py:519: FutureWarning: The SAMME.R algorithm (the default) is deprecated and will be removed in 1.6. Use the SAMME algorithm to circumvent this warning.\n",
      "  warnings.warn(\n",
      " 66%|██████▌   | 65/99 [01:04<01:03,  1.87s/it]c:\\Users\\Eza\\anaconda3\\envs\\dev\\lib\\site-packages\\sklearn\\ensemble\\_weight_boosting.py:519: FutureWarning: The SAMME.R algorithm (the default) is deprecated and will be removed in 1.6. Use the SAMME algorithm to circumvent this warning.\n",
      "  warnings.warn(\n",
      " 67%|██████▋   | 66/99 [01:06<01:02,  1.90s/it]c:\\Users\\Eza\\anaconda3\\envs\\dev\\lib\\site-packages\\sklearn\\ensemble\\_weight_boosting.py:519: FutureWarning: The SAMME.R algorithm (the default) is deprecated and will be removed in 1.6. Use the SAMME algorithm to circumvent this warning.\n",
      "  warnings.warn(\n",
      " 68%|██████▊   | 67/99 [01:08<01:01,  1.93s/it]c:\\Users\\Eza\\anaconda3\\envs\\dev\\lib\\site-packages\\sklearn\\ensemble\\_weight_boosting.py:519: FutureWarning: The SAMME.R algorithm (the default) is deprecated and will be removed in 1.6. Use the SAMME algorithm to circumvent this warning.\n",
      "  warnings.warn(\n",
      " 69%|██████▊   | 68/99 [01:10<01:00,  1.96s/it]c:\\Users\\Eza\\anaconda3\\envs\\dev\\lib\\site-packages\\sklearn\\ensemble\\_weight_boosting.py:519: FutureWarning: The SAMME.R algorithm (the default) is deprecated and will be removed in 1.6. Use the SAMME algorithm to circumvent this warning.\n",
      "  warnings.warn(\n",
      " 70%|██████▉   | 69/99 [01:12<00:59,  1.98s/it]c:\\Users\\Eza\\anaconda3\\envs\\dev\\lib\\site-packages\\sklearn\\ensemble\\_weight_boosting.py:519: FutureWarning: The SAMME.R algorithm (the default) is deprecated and will be removed in 1.6. Use the SAMME algorithm to circumvent this warning.\n",
      "  warnings.warn(\n",
      " 71%|███████   | 70/99 [01:14<00:58,  2.01s/it]c:\\Users\\Eza\\anaconda3\\envs\\dev\\lib\\site-packages\\sklearn\\ensemble\\_weight_boosting.py:519: FutureWarning: The SAMME.R algorithm (the default) is deprecated and will be removed in 1.6. Use the SAMME algorithm to circumvent this warning.\n",
      "  warnings.warn(\n",
      " 72%|███████▏  | 71/99 [01:16<00:57,  2.04s/it]c:\\Users\\Eza\\anaconda3\\envs\\dev\\lib\\site-packages\\sklearn\\ensemble\\_weight_boosting.py:519: FutureWarning: The SAMME.R algorithm (the default) is deprecated and will be removed in 1.6. Use the SAMME algorithm to circumvent this warning.\n",
      "  warnings.warn(\n",
      " 73%|███████▎  | 72/99 [01:18<00:55,  2.06s/it]c:\\Users\\Eza\\anaconda3\\envs\\dev\\lib\\site-packages\\sklearn\\ensemble\\_weight_boosting.py:519: FutureWarning: The SAMME.R algorithm (the default) is deprecated and will be removed in 1.6. Use the SAMME algorithm to circumvent this warning.\n",
      "  warnings.warn(\n",
      " 74%|███████▎  | 73/99 [01:20<00:54,  2.10s/it]c:\\Users\\Eza\\anaconda3\\envs\\dev\\lib\\site-packages\\sklearn\\ensemble\\_weight_boosting.py:519: FutureWarning: The SAMME.R algorithm (the default) is deprecated and will be removed in 1.6. Use the SAMME algorithm to circumvent this warning.\n",
      "  warnings.warn(\n",
      " 75%|███████▍  | 74/99 [01:23<00:53,  2.13s/it]c:\\Users\\Eza\\anaconda3\\envs\\dev\\lib\\site-packages\\sklearn\\ensemble\\_weight_boosting.py:519: FutureWarning: The SAMME.R algorithm (the default) is deprecated and will be removed in 1.6. Use the SAMME algorithm to circumvent this warning.\n",
      "  warnings.warn(\n",
      " 76%|███████▌  | 75/99 [01:25<00:51,  2.15s/it]c:\\Users\\Eza\\anaconda3\\envs\\dev\\lib\\site-packages\\sklearn\\ensemble\\_weight_boosting.py:519: FutureWarning: The SAMME.R algorithm (the default) is deprecated and will be removed in 1.6. Use the SAMME algorithm to circumvent this warning.\n",
      "  warnings.warn(\n",
      " 77%|███████▋  | 76/99 [01:27<00:50,  2.21s/it]c:\\Users\\Eza\\anaconda3\\envs\\dev\\lib\\site-packages\\sklearn\\ensemble\\_weight_boosting.py:519: FutureWarning: The SAMME.R algorithm (the default) is deprecated and will be removed in 1.6. Use the SAMME algorithm to circumvent this warning.\n",
      "  warnings.warn(\n",
      " 78%|███████▊  | 77/99 [01:29<00:49,  2.23s/it]c:\\Users\\Eza\\anaconda3\\envs\\dev\\lib\\site-packages\\sklearn\\ensemble\\_weight_boosting.py:519: FutureWarning: The SAMME.R algorithm (the default) is deprecated and will be removed in 1.6. Use the SAMME algorithm to circumvent this warning.\n",
      "  warnings.warn(\n",
      " 79%|███████▉  | 78/99 [01:32<00:47,  2.27s/it]c:\\Users\\Eza\\anaconda3\\envs\\dev\\lib\\site-packages\\sklearn\\ensemble\\_weight_boosting.py:519: FutureWarning: The SAMME.R algorithm (the default) is deprecated and will be removed in 1.6. Use the SAMME algorithm to circumvent this warning.\n",
      "  warnings.warn(\n",
      " 80%|███████▉  | 79/99 [01:34<00:46,  2.34s/it]c:\\Users\\Eza\\anaconda3\\envs\\dev\\lib\\site-packages\\sklearn\\ensemble\\_weight_boosting.py:519: FutureWarning: The SAMME.R algorithm (the default) is deprecated and will be removed in 1.6. Use the SAMME algorithm to circumvent this warning.\n",
      "  warnings.warn(\n",
      " 81%|████████  | 80/99 [01:37<00:46,  2.43s/it]c:\\Users\\Eza\\anaconda3\\envs\\dev\\lib\\site-packages\\sklearn\\ensemble\\_weight_boosting.py:519: FutureWarning: The SAMME.R algorithm (the default) is deprecated and will be removed in 1.6. Use the SAMME algorithm to circumvent this warning.\n",
      "  warnings.warn(\n",
      " 82%|████████▏ | 81/99 [01:40<00:44,  2.49s/it]c:\\Users\\Eza\\anaconda3\\envs\\dev\\lib\\site-packages\\sklearn\\ensemble\\_weight_boosting.py:519: FutureWarning: The SAMME.R algorithm (the default) is deprecated and will be removed in 1.6. Use the SAMME algorithm to circumvent this warning.\n",
      "  warnings.warn(\n",
      " 83%|████████▎ | 82/99 [01:42<00:42,  2.52s/it]c:\\Users\\Eza\\anaconda3\\envs\\dev\\lib\\site-packages\\sklearn\\ensemble\\_weight_boosting.py:519: FutureWarning: The SAMME.R algorithm (the default) is deprecated and will be removed in 1.6. Use the SAMME algorithm to circumvent this warning.\n",
      "  warnings.warn(\n",
      " 84%|████████▍ | 83/99 [01:45<00:40,  2.53s/it]c:\\Users\\Eza\\anaconda3\\envs\\dev\\lib\\site-packages\\sklearn\\ensemble\\_weight_boosting.py:519: FutureWarning: The SAMME.R algorithm (the default) is deprecated and will be removed in 1.6. Use the SAMME algorithm to circumvent this warning.\n",
      "  warnings.warn(\n",
      " 85%|████████▍ | 84/99 [01:47<00:38,  2.54s/it]c:\\Users\\Eza\\anaconda3\\envs\\dev\\lib\\site-packages\\sklearn\\ensemble\\_weight_boosting.py:519: FutureWarning: The SAMME.R algorithm (the default) is deprecated and will be removed in 1.6. Use the SAMME algorithm to circumvent this warning.\n",
      "  warnings.warn(\n",
      " 86%|████████▌ | 85/99 [01:50<00:35,  2.55s/it]c:\\Users\\Eza\\anaconda3\\envs\\dev\\lib\\site-packages\\sklearn\\ensemble\\_weight_boosting.py:519: FutureWarning: The SAMME.R algorithm (the default) is deprecated and will be removed in 1.6. Use the SAMME algorithm to circumvent this warning.\n",
      "  warnings.warn(\n",
      " 87%|████████▋ | 86/99 [01:52<00:33,  2.56s/it]c:\\Users\\Eza\\anaconda3\\envs\\dev\\lib\\site-packages\\sklearn\\ensemble\\_weight_boosting.py:519: FutureWarning: The SAMME.R algorithm (the default) is deprecated and will be removed in 1.6. Use the SAMME algorithm to circumvent this warning.\n",
      "  warnings.warn(\n",
      " 88%|████████▊ | 87/99 [01:55<00:30,  2.58s/it]c:\\Users\\Eza\\anaconda3\\envs\\dev\\lib\\site-packages\\sklearn\\ensemble\\_weight_boosting.py:519: FutureWarning: The SAMME.R algorithm (the default) is deprecated and will be removed in 1.6. Use the SAMME algorithm to circumvent this warning.\n",
      "  warnings.warn(\n",
      " 89%|████████▉ | 88/99 [01:58<00:28,  2.60s/it]c:\\Users\\Eza\\anaconda3\\envs\\dev\\lib\\site-packages\\sklearn\\ensemble\\_weight_boosting.py:519: FutureWarning: The SAMME.R algorithm (the default) is deprecated and will be removed in 1.6. Use the SAMME algorithm to circumvent this warning.\n",
      "  warnings.warn(\n",
      " 90%|████████▉ | 89/99 [02:00<00:26,  2.63s/it]c:\\Users\\Eza\\anaconda3\\envs\\dev\\lib\\site-packages\\sklearn\\ensemble\\_weight_boosting.py:519: FutureWarning: The SAMME.R algorithm (the default) is deprecated and will be removed in 1.6. Use the SAMME algorithm to circumvent this warning.\n",
      "  warnings.warn(\n",
      " 91%|█████████ | 90/99 [02:03<00:24,  2.68s/it]c:\\Users\\Eza\\anaconda3\\envs\\dev\\lib\\site-packages\\sklearn\\ensemble\\_weight_boosting.py:519: FutureWarning: The SAMME.R algorithm (the default) is deprecated and will be removed in 1.6. Use the SAMME algorithm to circumvent this warning.\n",
      "  warnings.warn(\n",
      " 92%|█████████▏| 91/99 [02:06<00:21,  2.69s/it]c:\\Users\\Eza\\anaconda3\\envs\\dev\\lib\\site-packages\\sklearn\\ensemble\\_weight_boosting.py:519: FutureWarning: The SAMME.R algorithm (the default) is deprecated and will be removed in 1.6. Use the SAMME algorithm to circumvent this warning.\n",
      "  warnings.warn(\n",
      " 93%|█████████▎| 92/99 [02:09<00:19,  2.75s/it]c:\\Users\\Eza\\anaconda3\\envs\\dev\\lib\\site-packages\\sklearn\\ensemble\\_weight_boosting.py:519: FutureWarning: The SAMME.R algorithm (the default) is deprecated and will be removed in 1.6. Use the SAMME algorithm to circumvent this warning.\n",
      "  warnings.warn(\n",
      " 94%|█████████▍| 93/99 [02:12<00:16,  2.78s/it]c:\\Users\\Eza\\anaconda3\\envs\\dev\\lib\\site-packages\\sklearn\\ensemble\\_weight_boosting.py:519: FutureWarning: The SAMME.R algorithm (the default) is deprecated and will be removed in 1.6. Use the SAMME algorithm to circumvent this warning.\n",
      "  warnings.warn(\n",
      " 95%|█████████▍| 94/99 [02:14<00:14,  2.80s/it]c:\\Users\\Eza\\anaconda3\\envs\\dev\\lib\\site-packages\\sklearn\\ensemble\\_weight_boosting.py:519: FutureWarning: The SAMME.R algorithm (the default) is deprecated and will be removed in 1.6. Use the SAMME algorithm to circumvent this warning.\n",
      "  warnings.warn(\n",
      " 96%|█████████▌| 95/99 [02:17<00:11,  2.85s/it]c:\\Users\\Eza\\anaconda3\\envs\\dev\\lib\\site-packages\\sklearn\\ensemble\\_weight_boosting.py:519: FutureWarning: The SAMME.R algorithm (the default) is deprecated and will be removed in 1.6. Use the SAMME algorithm to circumvent this warning.\n",
      "  warnings.warn(\n",
      " 97%|█████████▋| 96/99 [02:20<00:08,  2.89s/it]c:\\Users\\Eza\\anaconda3\\envs\\dev\\lib\\site-packages\\sklearn\\ensemble\\_weight_boosting.py:519: FutureWarning: The SAMME.R algorithm (the default) is deprecated and will be removed in 1.6. Use the SAMME algorithm to circumvent this warning.\n",
      "  warnings.warn(\n",
      " 98%|█████████▊| 97/99 [02:23<00:05,  2.91s/it]c:\\Users\\Eza\\anaconda3\\envs\\dev\\lib\\site-packages\\sklearn\\ensemble\\_weight_boosting.py:519: FutureWarning: The SAMME.R algorithm (the default) is deprecated and will be removed in 1.6. Use the SAMME algorithm to circumvent this warning.\n",
      "  warnings.warn(\n",
      " 99%|█████████▉| 98/99 [02:26<00:02,  2.93s/it]c:\\Users\\Eza\\anaconda3\\envs\\dev\\lib\\site-packages\\sklearn\\ensemble\\_weight_boosting.py:519: FutureWarning: The SAMME.R algorithm (the default) is deprecated and will be removed in 1.6. Use the SAMME algorithm to circumvent this warning.\n",
      "  warnings.warn(\n",
      "100%|██████████| 99/99 [02:29<00:00,  1.51s/it]\n"
     ]
    },
    {
     "data": {
      "image/png": "[encoded data removed]",
      "text/plain": [
       "<Figure size 640x480 with 1 Axes>"
      ]
     },
     "metadata": {},
     "output_type": "display_data"
    },
    {
     "name": "stderr",
     "output_type": "stream",
     "text": [
      "  0%|          | 0/9 [00:00<?, ?it/s]c:\\Users\\Eza\\anaconda3\\envs\\dev\\lib\\site-packages\\sklearn\\ensemble\\_weight_boosting.py:519: FutureWarning: The SAMME.R algorithm (the default) is deprecated and will be removed in 1.6. Use the SAMME algorithm to circumvent this warning.\n",
      "  warnings.warn(\n",
      "c:\\Users\\Eza\\anaconda3\\envs\\dev\\lib\\site-packages\\sklearn\\ensemble\\_weight_boosting.py:519: FutureWarning: The SAMME.R algorithm (the default) is deprecated and will be removed in 1.6. Use the SAMME algorithm to circumvent this warning.\n",
      "  warnings.warn(\n",
      "c:\\Users\\Eza\\anaconda3\\envs\\dev\\lib\\site-packages\\sklearn\\ensemble\\_weight_boosting.py:519: FutureWarning: The SAMME.R algorithm (the default) is deprecated and will be removed in 1.6. Use the SAMME algorithm to circumvent this warning.\n",
      "  warnings.warn(\n",
      " 33%|███▎      | 3/9 [00:00<00:00, 23.80it/s]c:\\Users\\Eza\\anaconda3\\envs\\dev\\lib\\site-packages\\sklearn\\ensemble\\_weight_boosting.py:519: FutureWarning: The SAMME.R algorithm (the default) is deprecated and will be removed in 1.6. Use the SAMME algorithm to circumvent this warning.\n",
      "  warnings.warn(\n",
      "c:\\Users\\Eza\\anaconda3\\envs\\dev\\lib\\site-packages\\sklearn\\ensemble\\_weight_boosting.py:519: FutureWarning: The SAMME.R algorithm (the default) is deprecated and will be removed in 1.6. Use the SAMME algorithm to circumvent this warning.\n",
      "  warnings.warn(\n",
      "c:\\Users\\Eza\\anaconda3\\envs\\dev\\lib\\site-packages\\sklearn\\ensemble\\_weight_boosting.py:519: FutureWarning: The SAMME.R algorithm (the default) is deprecated and will be removed in 1.6. Use the SAMME algorithm to circumvent this warning.\n",
      "  warnings.warn(\n",
      " 67%|██████▋   | 6/9 [00:00<00:00, 26.81it/s]c:\\Users\\Eza\\anaconda3\\envs\\dev\\lib\\site-packages\\sklearn\\ensemble\\_weight_boosting.py:519: FutureWarning: The SAMME.R algorithm (the default) is deprecated and will be removed in 1.6. Use the SAMME algorithm to circumvent this warning.\n",
      "  warnings.warn(\n",
      "c:\\Users\\Eza\\anaconda3\\envs\\dev\\lib\\site-packages\\sklearn\\ensemble\\_weight_boosting.py:519: FutureWarning: The SAMME.R algorithm (the default) is deprecated and will be removed in 1.6. Use the SAMME algorithm to circumvent this warning.\n",
      "  warnings.warn(\n",
      "c:\\Users\\Eza\\anaconda3\\envs\\dev\\lib\\site-packages\\sklearn\\ensemble\\_weight_boosting.py:519: FutureWarning: The SAMME.R algorithm (the default) is deprecated and will be removed in 1.6. Use the SAMME algorithm to circumvent this warning.\n",
      "  warnings.warn(\n",
      "100%|██████████| 9/9 [00:00<00:00, 27.35it/s]\n"
     ]
    },
    {
     "data": {
      "image/png": "[encoded data removed]",
      "text/plain": [
       "<Figure size 640x480 with 1 Axes>"
      ]
     },
     "metadata": {},
     "output_type": "display_data"
    }
   ],
   "source": [
    "\n",
    "\n",
    "changed_parameter = []\n",
    "training_scores = []\n",
    "testing_scores = []\n",
    "\n",
    "\n",
    "\n",
    "for n_est in tqdm(range(10, 1000, 10)):\n",
    "        classy = AdaBoostClassifier(n_estimators=n_est)\n",
    "        changed_parameter.append(int(n_est))\n",
    "        classy.fit(x_train_scaled, y_train)\n",
    "        testing_scores.append(classy.score(x_test_scaled, y_test))\n",
    "        training_scores.append(classy.score(x_train_scaled, y_train))\n",
    "        y_pred_train = classy.predict(x_train_scaled)\n",
    "        y_pred_test = classy.predict(x_test_scaled)\n",
    "\n",
    "        \n",
    "fig, ax = plt.subplots()\n",
    "ax.scatter(changed_parameter, testing_scores, c=\"blue\", label=\"Testing\")\n",
    "ax.scatter(changed_parameter, training_scores, c=\"red\", label=\"Training\")\n",
    "ax.legend()\n",
    "X_text = \"Number of Estimators\"\n",
    "plt.title(f\"{X_text} versus Accuracy\")\n",
    "plt.xlabel(X_text)\n",
    "plt.ylabel(\"Accuracy\")\n",
    "plt.show()\n",
    "\n",
    "\n",
    "\n",
    "changed_parameter = []\n",
    "training_scores = []\n",
    "testing_scores = []\n",
    "\n",
    "\n",
    "\n",
    "for lern in tqdm(np.arange(0.05, 0.5, 0.05)):\n",
    "        classy = AdaBoostClassifier(n_estimators=10, learning_rate=lern)\n",
    "        changed_parameter.append(lern)\n",
    "        classy.fit(x_train_scaled, y_train)\n",
    "        testing_scores.append(classy.score(x_test_scaled, y_test))\n",
    "        training_scores.append(classy.score(x_train_scaled, y_train))\n",
    "        y_pred_train = classy.predict(x_train_scaled)\n",
    "        y_pred_test = classy.predict(x_test_scaled)\n",
    "\n",
    "fig, ax = plt.subplots()\n",
    "ax.scatter(changed_parameter, testing_scores, c=\"blue\", label=\"Testing\")\n",
    "ax.scatter(changed_parameter, training_scores, c=\"red\", label=\"Training\")\n",
    "ax.legend()\n",
    "X_text = \"Learning Rate\"\n",
    "plt.title(f\"{X_text} versus Accuracy\")\n",
    "plt.xlabel(X_text)\n",
    "plt.ylabel(\"Accuracy\")\n",
    "plt.show()\n",
    "\n",
    "\n",
    "\n"
   ]
  },
  {
   "cell_type": "code",
   "execution_count": 31,
   "metadata": {},
   "outputs": [
    {
     "name": "stderr",
     "output_type": "stream",
     "text": [
      "100%|██████████| 99/99 [01:39<00:00,  1.00s/it]\n"
     ]
    },
    {
     "data": {
      "image/png": "[encoded data removed]",
      "text/plain": [
       "<Figure size 640x480 with 1 Axes>"
      ]
     },
     "metadata": {},
     "output_type": "display_data"
    },
    {
     "name": "stderr",
     "output_type": "stream",
     "text": [
      "100%|██████████| 8/8 [00:00<00:00, 42.77it/s]\n"
     ]
    },
    {
     "data": {
      "image/png": "[encoded data removed]",
      "text/plain": [
       "<Figure size 640x480 with 1 Axes>"
      ]
     },
     "metadata": {},
     "output_type": "display_data"
    }
   ],
   "source": [
    "\n",
    "\n",
    "changed_parameter = []\n",
    "training_scores = []\n",
    "testing_scores = []\n",
    "\n",
    "\n",
    "\n",
    "for n_est in tqdm(range(10, 1000, 10)):\n",
    "        classy = ExtraTreesClassifier(n_estimators=n_est)\n",
    "        changed_parameter.append(int(n_est))\n",
    "        classy.fit(x_train_scaled, y_train)\n",
    "        testing_scores.append(classy.score(x_test_scaled, y_test))\n",
    "        training_scores.append(classy.score(x_train_scaled, y_train))\n",
    "        y_pred_train = classy.predict(x_train_scaled)\n",
    "        y_pred_test = classy.predict(x_test_scaled)\n",
    "\n",
    "        \n",
    "fig, ax = plt.subplots()\n",
    "ax.scatter(changed_parameter, testing_scores, c=\"blue\", label=\"Testing\")\n",
    "ax.scatter(changed_parameter, training_scores, c=\"red\", label=\"Training\")\n",
    "ax.legend()\n",
    "X_text = \"Number of Estimators\"\n",
    "plt.title(f\"{X_text} versus Accuracy\")\n",
    "plt.xlabel(X_text)\n",
    "plt.ylabel(\"Accuracy\")\n",
    "plt.show()\n",
    "\n",
    "\n",
    "\n",
    "\n",
    "\n",
    "\n",
    "\n",
    "changed_parameter = []\n",
    "training_scores = []\n",
    "testing_scores = []\n",
    "\n",
    "\n",
    "\n",
    "for split in tqdm(range(2, 10)):\n",
    "        classy = ExtraTreesClassifier(n_estimators=10, min_samples_split=split)\n",
    "        changed_parameter.append(split)\n",
    "        classy.fit(x_train_scaled, y_train)\n",
    "        testing_scores.append(classy.score(x_test_scaled, y_test))\n",
    "        training_scores.append(classy.score(x_train_scaled, y_train))\n",
    "        y_pred_train = classy.predict(x_train_scaled)\n",
    "        y_pred_test = classy.predict(x_test_scaled)\n",
    "\n",
    "        \n",
    "fig, ax = plt.subplots()\n",
    "ax.scatter(changed_parameter, testing_scores, c=\"blue\", label=\"Testing\")\n",
    "ax.scatter(changed_parameter, training_scores, c=\"red\", label=\"Training\")\n",
    "ax.legend()\n",
    "X_text = \"Minimum Sample Split\"\n",
    "plt.title(f\"{X_text} versus Accuracy\")\n",
    "plt.xlabel(X_text)\n",
    "plt.ylabel(\"Accuracy\")\n",
    "plt.show()\n",
    "\n"
   ]
  },
  {
   "cell_type": "code",
   "execution_count": 40,
   "metadata": {},
   "outputs": [
    {
     "name": "stderr",
     "output_type": "stream",
     "text": [
      "  3%|▎         | 3/99 [00:00<00:04, 22.19it/s]"
     ]
    },
    {
     "name": "stdout",
     "output_type": "stream",
     "text": [
      "Score differences: 0.13039686552072793 at 10, training acc: 0.9869186046511628 and testing acc: 0.8565217391304348\n",
      "Score differences: 0.10288169868554098 at 20, training acc: 0.9941860465116279 and testing acc: 0.8913043478260869\n",
      "Score differences: 0.1217264914054601 at 30, training acc: 0.9956395348837209 and testing acc: 0.8739130434782608\n",
      "Score differences: 0.10724216380182006 at 40, training acc: 0.998546511627907 and testing acc: 0.8913043478260869\n",
      "Score differences: 0.10289433771486345 at 50, training acc: 0.998546511627907 and testing acc: 0.8956521739130435\n"
     ]
    },
    {
     "name": "stderr",
     "output_type": "stream",
     "text": [
      "  6%|▌         | 6/99 [00:00<00:07, 12.30it/s]"
     ]
    },
    {
     "name": "stdout",
     "output_type": "stream",
     "text": [
      "Score differences: 0.12173913043478257 at 60, training acc: 1.0 and testing acc: 0.8782608695652174\n",
      "Score differences: 0.13767694641051564 at 70, training acc: 0.998546511627907 and testing acc: 0.8608695652173913\n"
     ]
    },
    {
     "name": "stderr",
     "output_type": "stream",
     "text": [
      "  8%|▊         | 8/99 [00:00<00:10,  8.96it/s]"
     ]
    },
    {
     "name": "stdout",
     "output_type": "stream",
     "text": [
      "Score differences: 0.11739130434782608 at 80, training acc: 1.0 and testing acc: 0.8826086956521739\n",
      "Score differences: 0.10869565217391308 at 90, training acc: 1.0 and testing acc: 0.8913043478260869\n"
     ]
    },
    {
     "name": "stderr",
     "output_type": "stream",
     "text": [
      " 10%|█         | 10/99 [00:01<00:12,  7.11it/s]"
     ]
    },
    {
     "name": "stdout",
     "output_type": "stream",
     "text": [
      "Score differences: 0.11304347826086958 at 100, training acc: 1.0 and testing acc: 0.8869565217391304\n"
     ]
    },
    {
     "name": "stderr",
     "output_type": "stream",
     "text": [
      " 11%|█         | 11/99 [00:01<00:13,  6.35it/s]"
     ]
    },
    {
     "name": "stdout",
     "output_type": "stream",
     "text": [
      "Score differences: 0.12173913043478257 at 110, training acc: 1.0 and testing acc: 0.8782608695652174\n"
     ]
    },
    {
     "name": "stderr",
     "output_type": "stream",
     "text": [
      " 12%|█▏        | 12/99 [00:01<00:15,  5.53it/s]"
     ]
    },
    {
     "name": "stdout",
     "output_type": "stream",
     "text": [
      "Score differences: 0.10869565217391308 at 120, training acc: 1.0 and testing acc: 0.8913043478260869\n"
     ]
    },
    {
     "name": "stderr",
     "output_type": "stream",
     "text": [
      " 13%|█▎        | 13/99 [00:01<00:17,  4.80it/s]"
     ]
    },
    {
     "name": "stdout",
     "output_type": "stream",
     "text": [
      "Score differences: 0.13478260869565217 at 130, training acc: 1.0 and testing acc: 0.8652173913043478\n"
     ]
    },
    {
     "name": "stderr",
     "output_type": "stream",
     "text": [
      " 14%|█▍        | 14/99 [00:02<00:19,  4.32it/s]"
     ]
    },
    {
     "name": "stdout",
     "output_type": "stream",
     "text": [
      "Score differences: 0.12173913043478257 at 140, training acc: 1.0 and testing acc: 0.8782608695652174\n"
     ]
    },
    {
     "name": "stderr",
     "output_type": "stream",
     "text": [
      " 15%|█▌        | 15/99 [00:02<00:21,  3.90it/s]"
     ]
    },
    {
     "name": "stdout",
     "output_type": "stream",
     "text": [
      "Score differences: 0.12608695652173918 at 150, training acc: 1.0 and testing acc: 0.8739130434782608\n"
     ]
    },
    {
     "name": "stderr",
     "output_type": "stream",
     "text": [
      " 16%|█▌        | 16/99 [00:02<00:22,  3.61it/s]"
     ]
    },
    {
     "name": "stdout",
     "output_type": "stream",
     "text": [
      "Score differences: 0.11739130434782608 at 160, training acc: 1.0 and testing acc: 0.8826086956521739\n"
     ]
    },
    {
     "name": "stderr",
     "output_type": "stream",
     "text": [
      " 17%|█▋        | 17/99 [00:03<00:24,  3.36it/s]"
     ]
    },
    {
     "name": "stdout",
     "output_type": "stream",
     "text": [
      "Score differences: 0.12608695652173918 at 170, training acc: 1.0 and testing acc: 0.8739130434782608\n"
     ]
    },
    {
     "name": "stderr",
     "output_type": "stream",
     "text": [
      " 18%|█▊        | 18/99 [00:03<00:26,  3.09it/s]"
     ]
    },
    {
     "name": "stdout",
     "output_type": "stream",
     "text": [
      "Score differences: 0.11304347826086958 at 180, training acc: 1.0 and testing acc: 0.8869565217391304\n"
     ]
    },
    {
     "name": "stderr",
     "output_type": "stream",
     "text": [
      " 19%|█▉        | 19/99 [00:04<00:27,  2.92it/s]"
     ]
    },
    {
     "name": "stdout",
     "output_type": "stream",
     "text": [
      "Score differences: 0.11304347826086958 at 190, training acc: 1.0 and testing acc: 0.8869565217391304\n"
     ]
    },
    {
     "name": "stderr",
     "output_type": "stream",
     "text": [
      " 20%|██        | 20/99 [00:04<00:28,  2.76it/s]"
     ]
    },
    {
     "name": "stdout",
     "output_type": "stream",
     "text": [
      "Score differences: 0.11739130434782608 at 200, training acc: 1.0 and testing acc: 0.8826086956521739\n"
     ]
    },
    {
     "name": "stderr",
     "output_type": "stream",
     "text": [
      " 21%|██        | 21/99 [00:04<00:29,  2.61it/s]"
     ]
    },
    {
     "name": "stdout",
     "output_type": "stream",
     "text": [
      "Score differences: 0.09999999999999998 at 210, training acc: 1.0 and testing acc: 0.9\n"
     ]
    },
    {
     "name": "stderr",
     "output_type": "stream",
     "text": [
      " 22%|██▏       | 22/99 [00:05<00:31,  2.47it/s]"
     ]
    },
    {
     "name": "stdout",
     "output_type": "stream",
     "text": [
      "Score differences: 0.09565217391304348 at 220, training acc: 1.0 and testing acc: 0.9043478260869565\n"
     ]
    },
    {
     "name": "stderr",
     "output_type": "stream",
     "text": [
      " 23%|██▎       | 23/99 [00:05<00:32,  2.33it/s]"
     ]
    },
    {
     "name": "stdout",
     "output_type": "stream",
     "text": [
      "Score differences: 0.12173913043478257 at 230, training acc: 1.0 and testing acc: 0.8782608695652174\n"
     ]
    },
    {
     "name": "stderr",
     "output_type": "stream",
     "text": [
      " 24%|██▍       | 24/99 [00:06<00:33,  2.21it/s]"
     ]
    },
    {
     "name": "stdout",
     "output_type": "stream",
     "text": [
      "Score differences: 0.10869565217391308 at 240, training acc: 1.0 and testing acc: 0.8913043478260869\n"
     ]
    },
    {
     "name": "stderr",
     "output_type": "stream",
     "text": [
      " 25%|██▌       | 25/99 [00:06<00:34,  2.12it/s]"
     ]
    },
    {
     "name": "stdout",
     "output_type": "stream",
     "text": [
      "Score differences: 0.11304347826086958 at 250, training acc: 1.0 and testing acc: 0.8869565217391304\n"
     ]
    },
    {
     "name": "stderr",
     "output_type": "stream",
     "text": [
      " 26%|██▋       | 26/99 [00:07<00:35,  2.04it/s]"
     ]
    },
    {
     "name": "stdout",
     "output_type": "stream",
     "text": [
      "Score differences: 0.11304347826086958 at 260, training acc: 1.0 and testing acc: 0.8869565217391304\n"
     ]
    },
    {
     "name": "stderr",
     "output_type": "stream",
     "text": [
      " 27%|██▋       | 27/99 [00:07<00:36,  1.95it/s]"
     ]
    },
    {
     "name": "stdout",
     "output_type": "stream",
     "text": [
      "Score differences: 0.11739130434782608 at 270, training acc: 1.0 and testing acc: 0.8826086956521739\n"
     ]
    },
    {
     "name": "stderr",
     "output_type": "stream",
     "text": [
      " 28%|██▊       | 28/99 [00:08<00:37,  1.89it/s]"
     ]
    },
    {
     "name": "stdout",
     "output_type": "stream",
     "text": [
      "Score differences: 0.10869565217391308 at 280, training acc: 1.0 and testing acc: 0.8913043478260869\n"
     ]
    },
    {
     "name": "stderr",
     "output_type": "stream",
     "text": [
      " 29%|██▉       | 29/99 [00:09<00:38,  1.81it/s]"
     ]
    },
    {
     "name": "stdout",
     "output_type": "stream",
     "text": [
      "Score differences: 0.12608695652173918 at 290, training acc: 1.0 and testing acc: 0.8739130434782608\n"
     ]
    },
    {
     "name": "stderr",
     "output_type": "stream",
     "text": [
      " 30%|███       | 30/99 [00:09<00:39,  1.74it/s]"
     ]
    },
    {
     "name": "stdout",
     "output_type": "stream",
     "text": [
      "Score differences: 0.10869565217391308 at 300, training acc: 1.0 and testing acc: 0.8913043478260869\n"
     ]
    },
    {
     "name": "stderr",
     "output_type": "stream",
     "text": [
      " 31%|███▏      | 31/99 [00:10<00:40,  1.69it/s]"
     ]
    },
    {
     "name": "stdout",
     "output_type": "stream",
     "text": [
      "Score differences: 0.12608695652173918 at 310, training acc: 1.0 and testing acc: 0.8739130434782608\n"
     ]
    },
    {
     "name": "stderr",
     "output_type": "stream",
     "text": [
      " 32%|███▏      | 32/99 [00:11<00:40,  1.63it/s]"
     ]
    },
    {
     "name": "stdout",
     "output_type": "stream",
     "text": [
      "Score differences: 0.11304347826086958 at 320, training acc: 1.0 and testing acc: 0.8869565217391304\n"
     ]
    },
    {
     "name": "stderr",
     "output_type": "stream",
     "text": [
      " 33%|███▎      | 33/99 [00:11<00:41,  1.59it/s]"
     ]
    },
    {
     "name": "stdout",
     "output_type": "stream",
     "text": [
      "Score differences: 0.11739130434782608 at 330, training acc: 1.0 and testing acc: 0.8826086956521739\n"
     ]
    },
    {
     "name": "stderr",
     "output_type": "stream",
     "text": [
      " 34%|███▍      | 34/99 [00:12<00:42,  1.52it/s]"
     ]
    },
    {
     "name": "stdout",
     "output_type": "stream",
     "text": [
      "Score differences: 0.10869565217391308 at 340, training acc: 1.0 and testing acc: 0.8913043478260869\n"
     ]
    },
    {
     "name": "stderr",
     "output_type": "stream",
     "text": [
      " 35%|███▌      | 35/99 [00:13<00:43,  1.48it/s]"
     ]
    },
    {
     "name": "stdout",
     "output_type": "stream",
     "text": [
      "Score differences: 0.10869565217391308 at 350, training acc: 1.0 and testing acc: 0.8913043478260869\n"
     ]
    },
    {
     "name": "stderr",
     "output_type": "stream",
     "text": [
      " 36%|███▋      | 36/99 [00:13<00:43,  1.45it/s]"
     ]
    },
    {
     "name": "stdout",
     "output_type": "stream",
     "text": [
      "Score differences: 0.10869565217391308 at 360, training acc: 1.0 and testing acc: 0.8913043478260869\n"
     ]
    },
    {
     "name": "stderr",
     "output_type": "stream",
     "text": [
      " 37%|███▋      | 37/99 [00:14<00:44,  1.41it/s]"
     ]
    },
    {
     "name": "stdout",
     "output_type": "stream",
     "text": [
      "Score differences: 0.11304347826086958 at 370, training acc: 1.0 and testing acc: 0.8869565217391304\n"
     ]
    },
    {
     "name": "stderr",
     "output_type": "stream",
     "text": [
      " 38%|███▊      | 38/99 [00:15<00:44,  1.37it/s]"
     ]
    },
    {
     "name": "stdout",
     "output_type": "stream",
     "text": [
      "Score differences: 0.10869565217391308 at 380, training acc: 1.0 and testing acc: 0.8913043478260869\n"
     ]
    },
    {
     "name": "stderr",
     "output_type": "stream",
     "text": [
      " 39%|███▉      | 39/99 [00:16<00:45,  1.33it/s]"
     ]
    },
    {
     "name": "stdout",
     "output_type": "stream",
     "text": [
      "Score differences: 0.10869565217391308 at 390, training acc: 1.0 and testing acc: 0.8913043478260869\n"
     ]
    },
    {
     "name": "stderr",
     "output_type": "stream",
     "text": [
      " 40%|████      | 40/99 [00:17<00:45,  1.29it/s]"
     ]
    },
    {
     "name": "stdout",
     "output_type": "stream",
     "text": [
      "Score differences: 0.12173913043478257 at 400, training acc: 1.0 and testing acc: 0.8782608695652174\n"
     ]
    },
    {
     "name": "stderr",
     "output_type": "stream",
     "text": [
      " 41%|████▏     | 41/99 [00:17<00:46,  1.26it/s]"
     ]
    },
    {
     "name": "stdout",
     "output_type": "stream",
     "text": [
      "Score differences: 0.11304347826086958 at 410, training acc: 1.0 and testing acc: 0.8869565217391304\n"
     ]
    },
    {
     "name": "stderr",
     "output_type": "stream",
     "text": [
      " 42%|████▏     | 42/99 [00:18<00:46,  1.23it/s]"
     ]
    },
    {
     "name": "stdout",
     "output_type": "stream",
     "text": [
      "Score differences: 0.11304347826086958 at 420, training acc: 1.0 and testing acc: 0.8869565217391304\n"
     ]
    },
    {
     "name": "stderr",
     "output_type": "stream",
     "text": [
      " 43%|████▎     | 43/99 [00:19<00:46,  1.20it/s]"
     ]
    },
    {
     "name": "stdout",
     "output_type": "stream",
     "text": [
      "Score differences: 0.11739130434782608 at 430, training acc: 1.0 and testing acc: 0.8826086956521739\n"
     ]
    },
    {
     "name": "stderr",
     "output_type": "stream",
     "text": [
      " 44%|████▍     | 44/99 [00:20<00:46,  1.18it/s]"
     ]
    },
    {
     "name": "stdout",
     "output_type": "stream",
     "text": [
      "Score differences: 0.10434782608695647 at 440, training acc: 1.0 and testing acc: 0.8956521739130435\n"
     ]
    },
    {
     "name": "stderr",
     "output_type": "stream",
     "text": [
      " 45%|████▌     | 45/99 [00:21<00:47,  1.15it/s]"
     ]
    },
    {
     "name": "stdout",
     "output_type": "stream",
     "text": [
      "Score differences: 0.12173913043478257 at 450, training acc: 1.0 and testing acc: 0.8782608695652174\n"
     ]
    },
    {
     "name": "stderr",
     "output_type": "stream",
     "text": [
      " 46%|████▋     | 46/99 [00:22<00:47,  1.12it/s]"
     ]
    },
    {
     "name": "stdout",
     "output_type": "stream",
     "text": [
      "Score differences: 0.10869565217391308 at 460, training acc: 1.0 and testing acc: 0.8913043478260869\n"
     ]
    },
    {
     "name": "stderr",
     "output_type": "stream",
     "text": [
      " 47%|████▋     | 47/99 [00:23<00:47,  1.10it/s]"
     ]
    },
    {
     "name": "stdout",
     "output_type": "stream",
     "text": [
      "Score differences: 0.10434782608695647 at 470, training acc: 1.0 and testing acc: 0.8956521739130435\n"
     ]
    },
    {
     "name": "stderr",
     "output_type": "stream",
     "text": [
      " 48%|████▊     | 48/99 [00:24<00:47,  1.07it/s]"
     ]
    },
    {
     "name": "stdout",
     "output_type": "stream",
     "text": [
      "Score differences: 0.10869565217391308 at 480, training acc: 1.0 and testing acc: 0.8913043478260869\n"
     ]
    },
    {
     "name": "stderr",
     "output_type": "stream",
     "text": [
      " 49%|████▉     | 49/99 [00:25<00:47,  1.05it/s]"
     ]
    },
    {
     "name": "stdout",
     "output_type": "stream",
     "text": [
      "Score differences: 0.12173913043478257 at 490, training acc: 1.0 and testing acc: 0.8782608695652174\n"
     ]
    },
    {
     "name": "stderr",
     "output_type": "stream",
     "text": [
      " 51%|█████     | 50/99 [00:26<00:47,  1.03it/s]"
     ]
    },
    {
     "name": "stdout",
     "output_type": "stream",
     "text": [
      "Score differences: 0.10434782608695647 at 500, training acc: 1.0 and testing acc: 0.8956521739130435\n"
     ]
    },
    {
     "name": "stderr",
     "output_type": "stream",
     "text": [
      " 52%|█████▏    | 51/99 [00:27<00:48,  1.00s/it]"
     ]
    },
    {
     "name": "stdout",
     "output_type": "stream",
     "text": [
      "Score differences: 0.12173913043478257 at 510, training acc: 1.0 and testing acc: 0.8782608695652174\n"
     ]
    },
    {
     "name": "stderr",
     "output_type": "stream",
     "text": [
      " 53%|█████▎    | 52/99 [00:28<00:48,  1.02s/it]"
     ]
    },
    {
     "name": "stdout",
     "output_type": "stream",
     "text": [
      "Score differences: 0.12608695652173918 at 520, training acc: 1.0 and testing acc: 0.8739130434782608\n"
     ]
    },
    {
     "name": "stderr",
     "output_type": "stream",
     "text": [
      " 54%|█████▎    | 53/99 [00:29<00:48,  1.05s/it]"
     ]
    },
    {
     "name": "stdout",
     "output_type": "stream",
     "text": [
      "Score differences: 0.11304347826086958 at 530, training acc: 1.0 and testing acc: 0.8869565217391304\n"
     ]
    },
    {
     "name": "stderr",
     "output_type": "stream",
     "text": [
      " 55%|█████▍    | 54/99 [00:30<00:47,  1.06s/it]"
     ]
    },
    {
     "name": "stdout",
     "output_type": "stream",
     "text": [
      "Score differences: 0.10869565217391308 at 540, training acc: 1.0 and testing acc: 0.8913043478260869\n"
     ]
    },
    {
     "name": "stderr",
     "output_type": "stream",
     "text": [
      " 56%|█████▌    | 55/99 [00:31<00:47,  1.08s/it]"
     ]
    },
    {
     "name": "stdout",
     "output_type": "stream",
     "text": [
      "Score differences: 0.10869565217391308 at 550, training acc: 1.0 and testing acc: 0.8913043478260869\n"
     ]
    },
    {
     "name": "stderr",
     "output_type": "stream",
     "text": [
      " 57%|█████▋    | 56/99 [00:32<00:47,  1.10s/it]"
     ]
    },
    {
     "name": "stdout",
     "output_type": "stream",
     "text": [
      "Score differences: 0.11739130434782608 at 560, training acc: 1.0 and testing acc: 0.8826086956521739\n"
     ]
    },
    {
     "name": "stderr",
     "output_type": "stream",
     "text": [
      " 58%|█████▊    | 57/99 [00:34<00:46,  1.12s/it]"
     ]
    },
    {
     "name": "stdout",
     "output_type": "stream",
     "text": [
      "Score differences: 0.10869565217391308 at 570, training acc: 1.0 and testing acc: 0.8913043478260869\n"
     ]
    },
    {
     "name": "stderr",
     "output_type": "stream",
     "text": [
      " 59%|█████▊    | 58/99 [00:35<00:46,  1.14s/it]"
     ]
    },
    {
     "name": "stdout",
     "output_type": "stream",
     "text": [
      "Score differences: 0.11304347826086958 at 580, training acc: 1.0 and testing acc: 0.8869565217391304\n"
     ]
    },
    {
     "name": "stderr",
     "output_type": "stream",
     "text": [
      " 60%|█████▉    | 59/99 [00:36<00:46,  1.17s/it]"
     ]
    },
    {
     "name": "stdout",
     "output_type": "stream",
     "text": [
      "Score differences: 0.11304347826086958 at 590, training acc: 1.0 and testing acc: 0.8869565217391304\n"
     ]
    },
    {
     "name": "stderr",
     "output_type": "stream",
     "text": [
      " 61%|██████    | 60/99 [00:37<00:46,  1.19s/it]"
     ]
    },
    {
     "name": "stdout",
     "output_type": "stream",
     "text": [
      "Score differences: 0.11739130434782608 at 600, training acc: 1.0 and testing acc: 0.8826086956521739\n"
     ]
    },
    {
     "name": "stderr",
     "output_type": "stream",
     "text": [
      " 62%|██████▏   | 61/99 [00:39<00:45,  1.20s/it]"
     ]
    },
    {
     "name": "stdout",
     "output_type": "stream",
     "text": [
      "Score differences: 0.10869565217391308 at 610, training acc: 1.0 and testing acc: 0.8913043478260869\n"
     ]
    },
    {
     "name": "stderr",
     "output_type": "stream",
     "text": [
      " 63%|██████▎   | 62/99 [00:40<00:45,  1.22s/it]"
     ]
    },
    {
     "name": "stdout",
     "output_type": "stream",
     "text": [
      "Score differences: 0.11739130434782608 at 620, training acc: 1.0 and testing acc: 0.8826086956521739\n"
     ]
    },
    {
     "name": "stderr",
     "output_type": "stream",
     "text": [
      " 64%|██████▎   | 63/99 [00:41<00:44,  1.24s/it]"
     ]
    },
    {
     "name": "stdout",
     "output_type": "stream",
     "text": [
      "Score differences: 0.11304347826086958 at 630, training acc: 1.0 and testing acc: 0.8869565217391304\n"
     ]
    },
    {
     "name": "stderr",
     "output_type": "stream",
     "text": [
      " 65%|██████▍   | 64/99 [00:42<00:44,  1.26s/it]"
     ]
    },
    {
     "name": "stdout",
     "output_type": "stream",
     "text": [
      "Score differences: 0.11304347826086958 at 640, training acc: 1.0 and testing acc: 0.8869565217391304\n"
     ]
    },
    {
     "name": "stderr",
     "output_type": "stream",
     "text": [
      " 66%|██████▌   | 65/99 [00:44<00:43,  1.28s/it]"
     ]
    },
    {
     "name": "stdout",
     "output_type": "stream",
     "text": [
      "Score differences: 0.12173913043478257 at 650, training acc: 1.0 and testing acc: 0.8782608695652174\n"
     ]
    },
    {
     "name": "stderr",
     "output_type": "stream",
     "text": [
      " 67%|██████▋   | 66/99 [00:45<00:42,  1.30s/it]"
     ]
    },
    {
     "name": "stdout",
     "output_type": "stream",
     "text": [
      "Score differences: 0.10869565217391308 at 660, training acc: 1.0 and testing acc: 0.8913043478260869\n"
     ]
    },
    {
     "name": "stderr",
     "output_type": "stream",
     "text": [
      " 68%|██████▊   | 67/99 [00:46<00:42,  1.32s/it]"
     ]
    },
    {
     "name": "stdout",
     "output_type": "stream",
     "text": [
      "Score differences: 0.10869565217391308 at 670, training acc: 1.0 and testing acc: 0.8913043478260869\n"
     ]
    },
    {
     "name": "stderr",
     "output_type": "stream",
     "text": [
      " 69%|██████▊   | 68/99 [00:48<00:41,  1.35s/it]"
     ]
    },
    {
     "name": "stdout",
     "output_type": "stream",
     "text": [
      "Score differences: 0.10869565217391308 at 680, training acc: 1.0 and testing acc: 0.8913043478260869\n"
     ]
    },
    {
     "name": "stderr",
     "output_type": "stream",
     "text": [
      " 70%|██████▉   | 69/99 [00:49<00:41,  1.38s/it]"
     ]
    },
    {
     "name": "stdout",
     "output_type": "stream",
     "text": [
      "Score differences: 0.11304347826086958 at 690, training acc: 1.0 and testing acc: 0.8869565217391304\n"
     ]
    },
    {
     "name": "stderr",
     "output_type": "stream",
     "text": [
      " 71%|███████   | 70/99 [00:51<00:40,  1.40s/it]"
     ]
    },
    {
     "name": "stdout",
     "output_type": "stream",
     "text": [
      "Score differences: 0.11304347826086958 at 700, training acc: 1.0 and testing acc: 0.8869565217391304\n"
     ]
    },
    {
     "name": "stderr",
     "output_type": "stream",
     "text": [
      " 72%|███████▏  | 71/99 [00:52<00:39,  1.41s/it]"
     ]
    },
    {
     "name": "stdout",
     "output_type": "stream",
     "text": [
      "Score differences: 0.11304347826086958 at 710, training acc: 1.0 and testing acc: 0.8869565217391304\n"
     ]
    },
    {
     "name": "stderr",
     "output_type": "stream",
     "text": [
      " 73%|███████▎  | 72/99 [00:54<00:38,  1.43s/it]"
     ]
    },
    {
     "name": "stdout",
     "output_type": "stream",
     "text": [
      "Score differences: 0.12173913043478257 at 720, training acc: 1.0 and testing acc: 0.8782608695652174\n"
     ]
    },
    {
     "name": "stderr",
     "output_type": "stream",
     "text": [
      " 74%|███████▎  | 73/99 [00:55<00:37,  1.45s/it]"
     ]
    },
    {
     "name": "stdout",
     "output_type": "stream",
     "text": [
      "Score differences: 0.11304347826086958 at 730, training acc: 1.0 and testing acc: 0.8869565217391304\n"
     ]
    },
    {
     "name": "stderr",
     "output_type": "stream",
     "text": [
      " 75%|███████▍  | 74/99 [00:57<00:36,  1.47s/it]"
     ]
    },
    {
     "name": "stdout",
     "output_type": "stream",
     "text": [
      "Score differences: 0.12173913043478257 at 740, training acc: 1.0 and testing acc: 0.8782608695652174\n"
     ]
    },
    {
     "name": "stderr",
     "output_type": "stream",
     "text": [
      " 76%|███████▌  | 75/99 [00:58<00:35,  1.49s/it]"
     ]
    },
    {
     "name": "stdout",
     "output_type": "stream",
     "text": [
      "Score differences: 0.10869565217391308 at 750, training acc: 1.0 and testing acc: 0.8913043478260869\n"
     ]
    },
    {
     "name": "stderr",
     "output_type": "stream",
     "text": [
      " 77%|███████▋  | 76/99 [01:00<00:34,  1.51s/it]"
     ]
    },
    {
     "name": "stdout",
     "output_type": "stream",
     "text": [
      "Score differences: 0.10434782608695647 at 760, training acc: 1.0 and testing acc: 0.8956521739130435\n"
     ]
    },
    {
     "name": "stderr",
     "output_type": "stream",
     "text": [
      " 78%|███████▊  | 77/99 [01:01<00:33,  1.53s/it]"
     ]
    },
    {
     "name": "stdout",
     "output_type": "stream",
     "text": [
      "Score differences: 0.11304347826086958 at 770, training acc: 1.0 and testing acc: 0.8869565217391304\n"
     ]
    },
    {
     "name": "stderr",
     "output_type": "stream",
     "text": [
      " 79%|███████▉  | 78/99 [01:03<00:32,  1.55s/it]"
     ]
    },
    {
     "name": "stdout",
     "output_type": "stream",
     "text": [
      "Score differences: 0.11304347826086958 at 780, training acc: 1.0 and testing acc: 0.8869565217391304\n"
     ]
    },
    {
     "name": "stderr",
     "output_type": "stream",
     "text": [
      " 80%|███████▉  | 79/99 [01:05<00:31,  1.57s/it]"
     ]
    },
    {
     "name": "stdout",
     "output_type": "stream",
     "text": [
      "Score differences: 0.10869565217391308 at 790, training acc: 1.0 and testing acc: 0.8913043478260869\n"
     ]
    },
    {
     "name": "stderr",
     "output_type": "stream",
     "text": [
      " 81%|████████  | 80/99 [01:06<00:30,  1.59s/it]"
     ]
    },
    {
     "name": "stdout",
     "output_type": "stream",
     "text": [
      "Score differences: 0.11304347826086958 at 800, training acc: 1.0 and testing acc: 0.8869565217391304\n"
     ]
    },
    {
     "name": "stderr",
     "output_type": "stream",
     "text": [
      " 82%|████████▏ | 81/99 [01:08<00:29,  1.61s/it]"
     ]
    },
    {
     "name": "stdout",
     "output_type": "stream",
     "text": [
      "Score differences: 0.11739130434782608 at 810, training acc: 1.0 and testing acc: 0.8826086956521739\n"
     ]
    },
    {
     "name": "stderr",
     "output_type": "stream",
     "text": [
      " 83%|████████▎ | 82/99 [01:10<00:27,  1.63s/it]"
     ]
    },
    {
     "name": "stdout",
     "output_type": "stream",
     "text": [
      "Score differences: 0.11304347826086958 at 820, training acc: 1.0 and testing acc: 0.8869565217391304\n"
     ]
    },
    {
     "name": "stderr",
     "output_type": "stream",
     "text": [
      " 84%|████████▍ | 83/99 [01:11<00:26,  1.65s/it]"
     ]
    },
    {
     "name": "stdout",
     "output_type": "stream",
     "text": [
      "Score differences: 0.10869565217391308 at 830, training acc: 1.0 and testing acc: 0.8913043478260869\n"
     ]
    },
    {
     "name": "stderr",
     "output_type": "stream",
     "text": [
      " 85%|████████▍ | 84/99 [01:13<00:25,  1.67s/it]"
     ]
    },
    {
     "name": "stdout",
     "output_type": "stream",
     "text": [
      "Score differences: 0.10869565217391308 at 840, training acc: 1.0 and testing acc: 0.8913043478260869\n"
     ]
    },
    {
     "name": "stderr",
     "output_type": "stream",
     "text": [
      " 86%|████████▌ | 85/99 [01:15<00:23,  1.69s/it]"
     ]
    },
    {
     "name": "stdout",
     "output_type": "stream",
     "text": [
      "Score differences: 0.12173913043478257 at 850, training acc: 1.0 and testing acc: 0.8782608695652174\n"
     ]
    },
    {
     "name": "stderr",
     "output_type": "stream",
     "text": [
      " 87%|████████▋ | 86/99 [01:16<00:22,  1.71s/it]"
     ]
    },
    {
     "name": "stdout",
     "output_type": "stream",
     "text": [
      "Score differences: 0.10869565217391308 at 860, training acc: 1.0 and testing acc: 0.8913043478260869\n"
     ]
    },
    {
     "name": "stderr",
     "output_type": "stream",
     "text": [
      " 88%|████████▊ | 87/99 [01:18<00:20,  1.74s/it]"
     ]
    },
    {
     "name": "stdout",
     "output_type": "stream",
     "text": [
      "Score differences: 0.11739130434782608 at 870, training acc: 1.0 and testing acc: 0.8826086956521739\n"
     ]
    },
    {
     "name": "stderr",
     "output_type": "stream",
     "text": [
      " 89%|████████▉ | 88/99 [01:20<00:19,  1.75s/it]"
     ]
    },
    {
     "name": "stdout",
     "output_type": "stream",
     "text": [
      "Score differences: 0.11304347826086958 at 880, training acc: 1.0 and testing acc: 0.8869565217391304\n"
     ]
    },
    {
     "name": "stderr",
     "output_type": "stream",
     "text": [
      " 90%|████████▉ | 89/99 [01:22<00:17,  1.77s/it]"
     ]
    },
    {
     "name": "stdout",
     "output_type": "stream",
     "text": [
      "Score differences: 0.11304347826086958 at 890, training acc: 1.0 and testing acc: 0.8869565217391304\n"
     ]
    },
    {
     "name": "stderr",
     "output_type": "stream",
     "text": [
      " 91%|█████████ | 90/99 [01:24<00:16,  1.80s/it]"
     ]
    },
    {
     "name": "stdout",
     "output_type": "stream",
     "text": [
      "Score differences: 0.11304347826086958 at 900, training acc: 1.0 and testing acc: 0.8869565217391304\n"
     ]
    },
    {
     "name": "stderr",
     "output_type": "stream",
     "text": [
      " 92%|█████████▏| 91/99 [01:26<00:14,  1.82s/it]"
     ]
    },
    {
     "name": "stdout",
     "output_type": "stream",
     "text": [
      "Score differences: 0.10869565217391308 at 910, training acc: 1.0 and testing acc: 0.8913043478260869\n"
     ]
    },
    {
     "name": "stderr",
     "output_type": "stream",
     "text": [
      " 93%|█████████▎| 92/99 [01:28<00:13,  1.86s/it]"
     ]
    },
    {
     "name": "stdout",
     "output_type": "stream",
     "text": [
      "Score differences: 0.09565217391304348 at 920, training acc: 1.0 and testing acc: 0.9043478260869565\n"
     ]
    },
    {
     "name": "stderr",
     "output_type": "stream",
     "text": [
      " 94%|█████████▍| 93/99 [01:30<00:11,  1.96s/it]"
     ]
    },
    {
     "name": "stdout",
     "output_type": "stream",
     "text": [
      "Score differences: 0.10869565217391308 at 930, training acc: 1.0 and testing acc: 0.8913043478260869\n"
     ]
    },
    {
     "name": "stderr",
     "output_type": "stream",
     "text": [
      " 95%|█████████▍| 94/99 [01:32<00:09,  2.00s/it]"
     ]
    },
    {
     "name": "stdout",
     "output_type": "stream",
     "text": [
      "Score differences: 0.10434782608695647 at 940, training acc: 1.0 and testing acc: 0.8956521739130435\n"
     ]
    },
    {
     "name": "stderr",
     "output_type": "stream",
     "text": [
      " 96%|█████████▌| 95/99 [01:34<00:08,  2.02s/it]"
     ]
    },
    {
     "name": "stdout",
     "output_type": "stream",
     "text": [
      "Score differences: 0.10434782608695647 at 950, training acc: 1.0 and testing acc: 0.8956521739130435\n"
     ]
    },
    {
     "name": "stderr",
     "output_type": "stream",
     "text": [
      " 97%|█████████▋| 96/99 [01:36<00:06,  2.05s/it]"
     ]
    },
    {
     "name": "stdout",
     "output_type": "stream",
     "text": [
      "Score differences: 0.10434782608695647 at 960, training acc: 1.0 and testing acc: 0.8956521739130435\n"
     ]
    },
    {
     "name": "stderr",
     "output_type": "stream",
     "text": [
      " 98%|█████████▊| 97/99 [01:38<00:04,  2.07s/it]"
     ]
    },
    {
     "name": "stdout",
     "output_type": "stream",
     "text": [
      "Score differences: 0.10434782608695647 at 970, training acc: 1.0 and testing acc: 0.8956521739130435\n"
     ]
    },
    {
     "name": "stderr",
     "output_type": "stream",
     "text": [
      " 99%|█████████▉| 98/99 [01:40<00:02,  2.07s/it]"
     ]
    },
    {
     "name": "stdout",
     "output_type": "stream",
     "text": [
      "Score differences: 0.11304347826086958 at 980, training acc: 1.0 and testing acc: 0.8869565217391304\n"
     ]
    },
    {
     "name": "stderr",
     "output_type": "stream",
     "text": [
      "100%|██████████| 99/99 [01:42<00:00,  1.04s/it]"
     ]
    },
    {
     "name": "stdout",
     "output_type": "stream",
     "text": [
      "Score differences: 0.11739130434782608 at 990, training acc: 1.0 and testing acc: 0.8826086956521739\n"
     ]
    },
    {
     "name": "stderr",
     "output_type": "stream",
     "text": [
      "\n"
     ]
    },
    {
     "data": {
      "image/png": "[encoded data removed]",
      "text/plain": [
       "<Figure size 640x480 with 1 Axes>"
      ]
     },
     "metadata": {},
     "output_type": "display_data"
    },
    {
     "name": "stderr",
     "output_type": "stream",
     "text": [
      " 25%|██▌       | 2/8 [00:00<00:00, 10.75it/s]"
     ]
    },
    {
     "name": "stdout",
     "output_type": "stream",
     "text": [
      "Score differences: 0.13043478260869568 at 2, training acc: 1.0 and testing acc: 0.8695652173913043\n",
      "Score differences: 0.1072168857431749 at 3, training acc: 0.9898255813953488 and testing acc: 0.8826086956521739\n",
      "Score differences: 0.08834681496461072 at 4, training acc: 0.9796511627906976 and testing acc: 0.8913043478260869\n"
     ]
    },
    {
     "name": "stderr",
     "output_type": "stream",
     "text": [
      " 75%|███████▌  | 6/8 [00:00<00:00, 11.40it/s]"
     ]
    },
    {
     "name": "stdout",
     "output_type": "stream",
     "text": [
      "Score differences: 0.09556370070778564 at 5, training acc: 0.9694767441860465 and testing acc: 0.8739130434782608\n",
      "Score differences: 0.08104145601617796 at 6, training acc: 0.9593023255813954 and testing acc: 0.8782608695652174\n",
      "Score differences: 0.0723205257836198 at 7, training acc: 0.9505813953488372 and testing acc: 0.8782608695652174\n"
     ]
    },
    {
     "name": "stderr",
     "output_type": "stream",
     "text": [
      "100%|██████████| 8/8 [00:00<00:00, 11.27it/s]\n"
     ]
    },
    {
     "name": "stdout",
     "output_type": "stream",
     "text": [
      "Score differences: 0.07376137512639036 at 8, training acc: 0.9476744186046512 and testing acc: 0.8739130434782608\n",
      "Score differences: 0.03605915065722953 at 9, training acc: 0.940406976744186 and testing acc: 0.9043478260869565\n"
     ]
    },
    {
     "data": {
      "image/png": "[encoded data removed]",
      "text/plain": [
       "<Figure size 640x480 with 1 Axes>"
      ]
     },
     "metadata": {},
     "output_type": "display_data"
    }
   ],
   "source": [
    "\n",
    "\n",
    "changed_parameter = []\n",
    "training_scores = []\n",
    "testing_scores = []\n",
    "\n",
    "\n",
    "\n",
    "for n_est in tqdm(range(10, 1000, 10)):\n",
    "        classy = RandomForestClassifier(n_estimators=n_est)\n",
    "        changed_parameter.append(int(n_est))\n",
    "        classy.fit(x_train_scaled, y_train)\n",
    "        testing_scores.append(classy.score(x_test_scaled, y_test))\n",
    "        training_scores.append(classy.score(x_train_scaled, y_train))\n",
    "        print(f\"Score differences: {training_scores[-1] - testing_scores[-1]} at {int(n_est)}, training acc: {training_scores[-1]} and testing acc: {testing_scores[-1]}\")\n",
    "\n",
    "        \n",
    "fig, ax = plt.subplots()\n",
    "ax.scatter(changed_parameter, testing_scores, c=\"blue\", label=\"Testing\")\n",
    "ax.scatter(changed_parameter, training_scores, c=\"red\", label=\"Training\")\n",
    "ax.legend()\n",
    "X_text = \"Number of Estimators\"\n",
    "plt.title(f\"{X_text} versus Accuracy\")\n",
    "plt.xlabel(X_text)\n",
    "plt.ylabel(\"Accuracy\")\n",
    "plt.show()\n",
    "\n",
    "\n",
    "\n",
    "changed_parameter = []\n",
    "training_scores = []\n",
    "testing_scores = []\n",
    "\n",
    "\n",
    "for split in tqdm(range(2, 10)):\n",
    "        classy = RandomForestClassifier(n_estimators=40, min_samples_split=split)\n",
    "        changed_parameter.append(split)\n",
    "        classy.fit(x_train_scaled, y_train)\n",
    "        testing_scores.append(classy.score(x_test_scaled, y_test))\n",
    "        training_scores.append(classy.score(x_train_scaled, y_train))\n",
    "        print(f\"Score differences: {training_scores[-1] - testing_scores[-1]} at {split}, training acc: {training_scores[-1]} and testing acc: {testing_scores[-1]}\")\n",
    "\n",
    "\n",
    "        \n",
    "fig, ax = plt.subplots()\n",
    "ax.scatter(changed_parameter, testing_scores, c=\"blue\", label=\"Testing\")\n",
    "ax.scatter(changed_parameter, training_scores, c=\"red\", label=\"Training\")\n",
    "ax.legend()\n",
    "X_text = \"Minimum Sample Split\"\n",
    "plt.title(f\"{X_text} versus Accuracy\")\n",
    "plt.xlabel(X_text)\n",
    "plt.ylabel(\"Accuracy\")\n",
    "plt.show()\n",
    "\n"
   ]
  },
  {
   "cell_type": "code",
   "execution_count": 41,
   "metadata": {},
   "outputs": [
    {
     "name": "stderr",
     "output_type": "stream",
     "text": [
      "  1%|          | 1/99 [00:00<00:16,  5.79it/s]"
     ]
    },
    {
     "name": "stdout",
     "output_type": "stream",
     "text": [
      "Score differences: 0.1129676440849342 at 10, training acc: 0.9738372093023255 and testing acc: 0.8608695652173913\n"
     ]
    },
    {
     "name": "stderr",
     "output_type": "stream",
     "text": [
      "  2%|▏         | 2/99 [00:00<00:22,  4.33it/s]"
     ]
    },
    {
     "name": "stdout",
     "output_type": "stream",
     "text": [
      "Score differences: 0.14347826086956517 at 20, training acc: 1.0 and testing acc: 0.8565217391304348\n"
     ]
    },
    {
     "name": "stderr",
     "output_type": "stream",
     "text": [
      "  3%|▎         | 3/99 [00:00<00:26,  3.67it/s]"
     ]
    },
    {
     "name": "stdout",
     "output_type": "stream",
     "text": [
      "Score differences: 0.14347826086956517 at 30, training acc: 1.0 and testing acc: 0.8565217391304348\n"
     ]
    },
    {
     "name": "stderr",
     "output_type": "stream",
     "text": [
      "  4%|▍         | 4/99 [00:01<00:30,  3.09it/s]"
     ]
    },
    {
     "name": "stdout",
     "output_type": "stream",
     "text": [
      "Score differences: 0.14347826086956517 at 40, training acc: 1.0 and testing acc: 0.8565217391304348\n"
     ]
    },
    {
     "name": "stderr",
     "output_type": "stream",
     "text": [
      "  5%|▌         | 5/99 [00:01<00:31,  3.03it/s]"
     ]
    },
    {
     "name": "stdout",
     "output_type": "stream",
     "text": [
      "Score differences: 0.14347826086956517 at 50, training acc: 1.0 and testing acc: 0.8565217391304348\n"
     ]
    },
    {
     "name": "stderr",
     "output_type": "stream",
     "text": [
      "  6%|▌         | 6/99 [00:01<00:31,  2.98it/s]"
     ]
    },
    {
     "name": "stdout",
     "output_type": "stream",
     "text": [
      "Score differences: 0.14347826086956517 at 60, training acc: 1.0 and testing acc: 0.8565217391304348\n"
     ]
    },
    {
     "name": "stderr",
     "output_type": "stream",
     "text": [
      "  7%|▋         | 7/99 [00:02<00:31,  2.95it/s]"
     ]
    },
    {
     "name": "stdout",
     "output_type": "stream",
     "text": [
      "Score differences: 0.14347826086956517 at 70, training acc: 1.0 and testing acc: 0.8565217391304348\n"
     ]
    },
    {
     "name": "stderr",
     "output_type": "stream",
     "text": [
      "  8%|▊         | 8/99 [00:02<00:30,  3.01it/s]"
     ]
    },
    {
     "name": "stdout",
     "output_type": "stream",
     "text": [
      "Score differences: 0.14347826086956517 at 80, training acc: 1.0 and testing acc: 0.8565217391304348\n"
     ]
    },
    {
     "name": "stderr",
     "output_type": "stream",
     "text": [
      "  9%|▉         | 9/99 [00:02<00:30,  2.97it/s]"
     ]
    },
    {
     "name": "stdout",
     "output_type": "stream",
     "text": [
      "Score differences: 0.14347826086956517 at 90, training acc: 1.0 and testing acc: 0.8565217391304348\n"
     ]
    },
    {
     "name": "stderr",
     "output_type": "stream",
     "text": [
      " 10%|█         | 10/99 [00:03<00:31,  2.84it/s]"
     ]
    },
    {
     "name": "stdout",
     "output_type": "stream",
     "text": [
      "Score differences: 0.14347826086956517 at 100, training acc: 1.0 and testing acc: 0.8565217391304348\n"
     ]
    },
    {
     "name": "stderr",
     "output_type": "stream",
     "text": [
      " 11%|█         | 11/99 [00:03<00:30,  2.88it/s]"
     ]
    },
    {
     "name": "stdout",
     "output_type": "stream",
     "text": [
      "Score differences: 0.14347826086956517 at 110, training acc: 1.0 and testing acc: 0.8565217391304348\n"
     ]
    },
    {
     "name": "stderr",
     "output_type": "stream",
     "text": [
      " 12%|█▏        | 12/99 [00:03<00:30,  2.88it/s]"
     ]
    },
    {
     "name": "stdout",
     "output_type": "stream",
     "text": [
      "Score differences: 0.14347826086956517 at 120, training acc: 1.0 and testing acc: 0.8565217391304348\n"
     ]
    },
    {
     "name": "stderr",
     "output_type": "stream",
     "text": [
      " 13%|█▎        | 13/99 [00:04<00:29,  2.94it/s]"
     ]
    },
    {
     "name": "stdout",
     "output_type": "stream",
     "text": [
      "Score differences: 0.14347826086956517 at 130, training acc: 1.0 and testing acc: 0.8565217391304348\n"
     ]
    },
    {
     "name": "stderr",
     "output_type": "stream",
     "text": [
      " 14%|█▍        | 14/99 [00:04<00:28,  2.94it/s]"
     ]
    },
    {
     "name": "stdout",
     "output_type": "stream",
     "text": [
      "Score differences: 0.14347826086956517 at 140, training acc: 1.0 and testing acc: 0.8565217391304348\n"
     ]
    },
    {
     "name": "stderr",
     "output_type": "stream",
     "text": [
      " 15%|█▌        | 15/99 [00:04<00:30,  2.80it/s]"
     ]
    },
    {
     "name": "stdout",
     "output_type": "stream",
     "text": [
      "Score differences: 0.14347826086956517 at 150, training acc: 1.0 and testing acc: 0.8565217391304348\n"
     ]
    },
    {
     "name": "stderr",
     "output_type": "stream",
     "text": [
      " 16%|█▌        | 16/99 [00:05<00:29,  2.84it/s]"
     ]
    },
    {
     "name": "stdout",
     "output_type": "stream",
     "text": [
      "Score differences: 0.14347826086956517 at 160, training acc: 1.0 and testing acc: 0.8565217391304348\n"
     ]
    },
    {
     "name": "stderr",
     "output_type": "stream",
     "text": [
      " 17%|█▋        | 17/99 [00:05<00:27,  2.93it/s]"
     ]
    },
    {
     "name": "stdout",
     "output_type": "stream",
     "text": [
      "Score differences: 0.14347826086956517 at 170, training acc: 1.0 and testing acc: 0.8565217391304348\n"
     ]
    },
    {
     "name": "stderr",
     "output_type": "stream",
     "text": [
      " 18%|█▊        | 18/99 [00:05<00:27,  2.98it/s]"
     ]
    },
    {
     "name": "stdout",
     "output_type": "stream",
     "text": [
      "Score differences: 0.14347826086956517 at 180, training acc: 1.0 and testing acc: 0.8565217391304348\n"
     ]
    },
    {
     "name": "stderr",
     "output_type": "stream",
     "text": [
      " 19%|█▉        | 19/99 [00:06<00:26,  3.02it/s]"
     ]
    },
    {
     "name": "stdout",
     "output_type": "stream",
     "text": [
      "Score differences: 0.14347826086956517 at 190, training acc: 1.0 and testing acc: 0.8565217391304348\n"
     ]
    },
    {
     "name": "stderr",
     "output_type": "stream",
     "text": [
      " 20%|██        | 20/99 [00:06<00:25,  3.05it/s]"
     ]
    },
    {
     "name": "stdout",
     "output_type": "stream",
     "text": [
      "Score differences: 0.14347826086956517 at 200, training acc: 1.0 and testing acc: 0.8565217391304348\n"
     ]
    },
    {
     "name": "stderr",
     "output_type": "stream",
     "text": [
      " 21%|██        | 21/99 [00:06<00:26,  3.00it/s]"
     ]
    },
    {
     "name": "stdout",
     "output_type": "stream",
     "text": [
      "Score differences: 0.14347826086956517 at 210, training acc: 1.0 and testing acc: 0.8565217391304348\n"
     ]
    },
    {
     "name": "stderr",
     "output_type": "stream",
     "text": [
      " 22%|██▏       | 22/99 [00:07<00:25,  3.04it/s]"
     ]
    },
    {
     "name": "stdout",
     "output_type": "stream",
     "text": [
      "Score differences: 0.14347826086956517 at 220, training acc: 1.0 and testing acc: 0.8565217391304348\n"
     ]
    },
    {
     "name": "stderr",
     "output_type": "stream",
     "text": [
      " 23%|██▎       | 23/99 [00:07<00:24,  3.06it/s]"
     ]
    },
    {
     "name": "stdout",
     "output_type": "stream",
     "text": [
      "Score differences: 0.14347826086956517 at 230, training acc: 1.0 and testing acc: 0.8565217391304348\n"
     ]
    },
    {
     "name": "stderr",
     "output_type": "stream",
     "text": [
      " 24%|██▍       | 24/99 [00:07<00:25,  3.00it/s]"
     ]
    },
    {
     "name": "stdout",
     "output_type": "stream",
     "text": [
      "Score differences: 0.14347826086956517 at 240, training acc: 1.0 and testing acc: 0.8565217391304348\n"
     ]
    },
    {
     "name": "stderr",
     "output_type": "stream",
     "text": [
      " 25%|██▌       | 25/99 [00:08<00:24,  3.03it/s]"
     ]
    },
    {
     "name": "stdout",
     "output_type": "stream",
     "text": [
      "Score differences: 0.14347826086956517 at 250, training acc: 1.0 and testing acc: 0.8565217391304348\n"
     ]
    },
    {
     "name": "stderr",
     "output_type": "stream",
     "text": [
      " 26%|██▋       | 26/99 [00:08<00:24,  2.96it/s]"
     ]
    },
    {
     "name": "stdout",
     "output_type": "stream",
     "text": [
      "Score differences: 0.14347826086956517 at 260, training acc: 1.0 and testing acc: 0.8565217391304348\n"
     ]
    },
    {
     "name": "stderr",
     "output_type": "stream",
     "text": [
      " 27%|██▋       | 27/99 [00:09<00:25,  2.81it/s]"
     ]
    },
    {
     "name": "stdout",
     "output_type": "stream",
     "text": [
      "Score differences: 0.14347826086956517 at 270, training acc: 1.0 and testing acc: 0.8565217391304348\n"
     ]
    },
    {
     "name": "stderr",
     "output_type": "stream",
     "text": [
      " 28%|██▊       | 28/99 [00:09<00:25,  2.84it/s]"
     ]
    },
    {
     "name": "stdout",
     "output_type": "stream",
     "text": [
      "Score differences: 0.14347826086956517 at 280, training acc: 1.0 and testing acc: 0.8565217391304348\n"
     ]
    },
    {
     "name": "stderr",
     "output_type": "stream",
     "text": [
      " 29%|██▉       | 29/99 [00:09<00:24,  2.89it/s]"
     ]
    },
    {
     "name": "stdout",
     "output_type": "stream",
     "text": [
      "Score differences: 0.14347826086956517 at 290, training acc: 1.0 and testing acc: 0.8565217391304348\n"
     ]
    },
    {
     "name": "stderr",
     "output_type": "stream",
     "text": [
      " 30%|███       | 30/99 [00:10<00:23,  2.95it/s]"
     ]
    },
    {
     "name": "stdout",
     "output_type": "stream",
     "text": [
      "Score differences: 0.14347826086956517 at 300, training acc: 1.0 and testing acc: 0.8565217391304348\n"
     ]
    },
    {
     "name": "stderr",
     "output_type": "stream",
     "text": [
      " 31%|███▏      | 31/99 [00:10<00:22,  3.01it/s]"
     ]
    },
    {
     "name": "stdout",
     "output_type": "stream",
     "text": [
      "Score differences: 0.14347826086956517 at 310, training acc: 1.0 and testing acc: 0.8565217391304348\n"
     ]
    },
    {
     "name": "stderr",
     "output_type": "stream",
     "text": [
      " 32%|███▏      | 32/99 [00:10<00:22,  2.93it/s]"
     ]
    },
    {
     "name": "stdout",
     "output_type": "stream",
     "text": [
      "Score differences: 0.14347826086956517 at 320, training acc: 1.0 and testing acc: 0.8565217391304348\n"
     ]
    },
    {
     "name": "stderr",
     "output_type": "stream",
     "text": [
      " 33%|███▎      | 33/99 [00:11<00:22,  3.00it/s]"
     ]
    },
    {
     "name": "stdout",
     "output_type": "stream",
     "text": [
      "Score differences: 0.14347826086956517 at 330, training acc: 1.0 and testing acc: 0.8565217391304348\n"
     ]
    },
    {
     "name": "stderr",
     "output_type": "stream",
     "text": [
      " 34%|███▍      | 34/99 [00:11<00:21,  3.06it/s]"
     ]
    },
    {
     "name": "stdout",
     "output_type": "stream",
     "text": [
      "Score differences: 0.14347826086956517 at 340, training acc: 1.0 and testing acc: 0.8565217391304348\n"
     ]
    },
    {
     "name": "stderr",
     "output_type": "stream",
     "text": [
      " 35%|███▌      | 35/99 [00:11<00:20,  3.11it/s]"
     ]
    },
    {
     "name": "stdout",
     "output_type": "stream",
     "text": [
      "Score differences: 0.14347826086956517 at 350, training acc: 1.0 and testing acc: 0.8565217391304348\n"
     ]
    },
    {
     "name": "stderr",
     "output_type": "stream",
     "text": [
      " 36%|███▋      | 36/99 [00:11<00:20,  3.12it/s]"
     ]
    },
    {
     "name": "stdout",
     "output_type": "stream",
     "text": [
      "Score differences: 0.14347826086956517 at 360, training acc: 1.0 and testing acc: 0.8565217391304348\n"
     ]
    },
    {
     "name": "stderr",
     "output_type": "stream",
     "text": [
      " 37%|███▋      | 37/99 [00:12<00:21,  2.89it/s]"
     ]
    },
    {
     "name": "stdout",
     "output_type": "stream",
     "text": [
      "Score differences: 0.14347826086956517 at 370, training acc: 1.0 and testing acc: 0.8565217391304348\n"
     ]
    },
    {
     "name": "stderr",
     "output_type": "stream",
     "text": [
      " 38%|███▊      | 38/99 [00:12<00:20,  2.97it/s]"
     ]
    },
    {
     "name": "stdout",
     "output_type": "stream",
     "text": [
      "Score differences: 0.14347826086956517 at 380, training acc: 1.0 and testing acc: 0.8565217391304348\n"
     ]
    },
    {
     "name": "stderr",
     "output_type": "stream",
     "text": [
      " 39%|███▉      | 39/99 [00:13<00:20,  2.94it/s]"
     ]
    },
    {
     "name": "stdout",
     "output_type": "stream",
     "text": [
      "Score differences: 0.14347826086956517 at 390, training acc: 1.0 and testing acc: 0.8565217391304348\n"
     ]
    },
    {
     "name": "stderr",
     "output_type": "stream",
     "text": [
      " 40%|████      | 40/99 [00:13<00:19,  2.97it/s]"
     ]
    },
    {
     "name": "stdout",
     "output_type": "stream",
     "text": [
      "Score differences: 0.14347826086956517 at 400, training acc: 1.0 and testing acc: 0.8565217391304348\n"
     ]
    },
    {
     "name": "stderr",
     "output_type": "stream",
     "text": [
      " 41%|████▏     | 41/99 [00:13<00:19,  2.98it/s]"
     ]
    },
    {
     "name": "stdout",
     "output_type": "stream",
     "text": [
      "Score differences: 0.14347826086956517 at 410, training acc: 1.0 and testing acc: 0.8565217391304348\n"
     ]
    },
    {
     "name": "stderr",
     "output_type": "stream",
     "text": [
      " 42%|████▏     | 42/99 [00:14<00:19,  2.99it/s]"
     ]
    },
    {
     "name": "stdout",
     "output_type": "stream",
     "text": [
      "Score differences: 0.14347826086956517 at 420, training acc: 1.0 and testing acc: 0.8565217391304348\n"
     ]
    },
    {
     "name": "stderr",
     "output_type": "stream",
     "text": [
      " 43%|████▎     | 43/99 [00:14<00:19,  2.91it/s]"
     ]
    },
    {
     "name": "stdout",
     "output_type": "stream",
     "text": [
      "Score differences: 0.14347826086956517 at 430, training acc: 1.0 and testing acc: 0.8565217391304348\n"
     ]
    },
    {
     "name": "stderr",
     "output_type": "stream",
     "text": [
      " 44%|████▍     | 44/99 [00:14<00:18,  2.96it/s]"
     ]
    },
    {
     "name": "stdout",
     "output_type": "stream",
     "text": [
      "Score differences: 0.14347826086956517 at 440, training acc: 1.0 and testing acc: 0.8565217391304348\n"
     ]
    },
    {
     "name": "stderr",
     "output_type": "stream",
     "text": [
      " 45%|████▌     | 45/99 [00:15<00:17,  3.03it/s]"
     ]
    },
    {
     "name": "stdout",
     "output_type": "stream",
     "text": [
      "Score differences: 0.14347826086956517 at 450, training acc: 1.0 and testing acc: 0.8565217391304348\n"
     ]
    },
    {
     "name": "stderr",
     "output_type": "stream",
     "text": [
      " 46%|████▋     | 46/99 [00:15<00:17,  3.08it/s]"
     ]
    },
    {
     "name": "stdout",
     "output_type": "stream",
     "text": [
      "Score differences: 0.14347826086956517 at 460, training acc: 1.0 and testing acc: 0.8565217391304348\n"
     ]
    },
    {
     "name": "stderr",
     "output_type": "stream",
     "text": [
      " 47%|████▋     | 47/99 [00:15<00:16,  3.10it/s]"
     ]
    },
    {
     "name": "stdout",
     "output_type": "stream",
     "text": [
      "Score differences: 0.14347826086956517 at 470, training acc: 1.0 and testing acc: 0.8565217391304348\n"
     ]
    },
    {
     "name": "stderr",
     "output_type": "stream",
     "text": [
      " 48%|████▊     | 48/99 [00:16<00:17,  2.98it/s]"
     ]
    },
    {
     "name": "stdout",
     "output_type": "stream",
     "text": [
      "Score differences: 0.14347826086956517 at 480, training acc: 1.0 and testing acc: 0.8565217391304348\n"
     ]
    },
    {
     "name": "stderr",
     "output_type": "stream",
     "text": [
      " 49%|████▉     | 49/99 [00:16<00:16,  3.01it/s]"
     ]
    },
    {
     "name": "stdout",
     "output_type": "stream",
     "text": [
      "Score differences: 0.14347826086956517 at 490, training acc: 1.0 and testing acc: 0.8565217391304348\n"
     ]
    },
    {
     "name": "stderr",
     "output_type": "stream",
     "text": [
      " 51%|█████     | 50/99 [00:16<00:16,  3.05it/s]"
     ]
    },
    {
     "name": "stdout",
     "output_type": "stream",
     "text": [
      "Score differences: 0.14347826086956517 at 500, training acc: 1.0 and testing acc: 0.8565217391304348\n"
     ]
    },
    {
     "name": "stderr",
     "output_type": "stream",
     "text": [
      " 52%|█████▏    | 51/99 [00:16<00:15,  3.07it/s]"
     ]
    },
    {
     "name": "stdout",
     "output_type": "stream",
     "text": [
      "Score differences: 0.14347826086956517 at 510, training acc: 1.0 and testing acc: 0.8565217391304348\n"
     ]
    },
    {
     "name": "stderr",
     "output_type": "stream",
     "text": [
      " 53%|█████▎    | 52/99 [00:17<00:15,  3.09it/s]"
     ]
    },
    {
     "name": "stdout",
     "output_type": "stream",
     "text": [
      "Score differences: 0.14347826086956517 at 520, training acc: 1.0 and testing acc: 0.8565217391304348\n"
     ]
    },
    {
     "name": "stderr",
     "output_type": "stream",
     "text": [
      " 54%|█████▎    | 53/99 [00:17<00:14,  3.12it/s]"
     ]
    },
    {
     "name": "stdout",
     "output_type": "stream",
     "text": [
      "Score differences: 0.14347826086956517 at 530, training acc: 1.0 and testing acc: 0.8565217391304348\n"
     ]
    },
    {
     "name": "stderr",
     "output_type": "stream",
     "text": [
      " 55%|█████▍    | 54/99 [00:17<00:15,  3.00it/s]"
     ]
    },
    {
     "name": "stdout",
     "output_type": "stream",
     "text": [
      "Score differences: 0.14347826086956517 at 540, training acc: 1.0 and testing acc: 0.8565217391304348\n"
     ]
    },
    {
     "name": "stderr",
     "output_type": "stream",
     "text": [
      " 56%|█████▌    | 55/99 [00:18<00:14,  2.98it/s]"
     ]
    },
    {
     "name": "stdout",
     "output_type": "stream",
     "text": [
      "Score differences: 0.14347826086956517 at 550, training acc: 1.0 and testing acc: 0.8565217391304348\n"
     ]
    },
    {
     "name": "stderr",
     "output_type": "stream",
     "text": [
      " 57%|█████▋    | 56/99 [00:18<00:14,  3.04it/s]"
     ]
    },
    {
     "name": "stdout",
     "output_type": "stream",
     "text": [
      "Score differences: 0.14347826086956517 at 560, training acc: 1.0 and testing acc: 0.8565217391304348\n"
     ]
    },
    {
     "name": "stderr",
     "output_type": "stream",
     "text": [
      " 58%|█████▊    | 57/99 [00:18<00:13,  3.06it/s]"
     ]
    },
    {
     "name": "stdout",
     "output_type": "stream",
     "text": [
      "Score differences: 0.14347826086956517 at 570, training acc: 1.0 and testing acc: 0.8565217391304348\n"
     ]
    },
    {
     "name": "stderr",
     "output_type": "stream",
     "text": [
      " 59%|█████▊    | 58/99 [00:19<00:13,  3.11it/s]"
     ]
    },
    {
     "name": "stdout",
     "output_type": "stream",
     "text": [
      "Score differences: 0.14347826086956517 at 580, training acc: 1.0 and testing acc: 0.8565217391304348\n"
     ]
    },
    {
     "name": "stderr",
     "output_type": "stream",
     "text": [
      " 60%|█████▉    | 59/99 [00:19<00:12,  3.14it/s]"
     ]
    },
    {
     "name": "stdout",
     "output_type": "stream",
     "text": [
      "Score differences: 0.14347826086956517 at 590, training acc: 1.0 and testing acc: 0.8565217391304348\n"
     ]
    },
    {
     "name": "stderr",
     "output_type": "stream",
     "text": [
      " 61%|██████    | 60/99 [00:19<00:12,  3.07it/s]"
     ]
    },
    {
     "name": "stdout",
     "output_type": "stream",
     "text": [
      "Score differences: 0.14347826086956517 at 600, training acc: 1.0 and testing acc: 0.8565217391304348\n"
     ]
    },
    {
     "name": "stderr",
     "output_type": "stream",
     "text": [
      " 62%|██████▏   | 61/99 [00:20<00:12,  3.09it/s]"
     ]
    },
    {
     "name": "stdout",
     "output_type": "stream",
     "text": [
      "Score differences: 0.14347826086956517 at 610, training acc: 1.0 and testing acc: 0.8565217391304348\n"
     ]
    },
    {
     "name": "stderr",
     "output_type": "stream",
     "text": [
      " 63%|██████▎   | 62/99 [00:20<00:11,  3.12it/s]"
     ]
    },
    {
     "name": "stdout",
     "output_type": "stream",
     "text": [
      "Score differences: 0.14347826086956517 at 620, training acc: 1.0 and testing acc: 0.8565217391304348\n"
     ]
    },
    {
     "name": "stderr",
     "output_type": "stream",
     "text": [
      " 64%|██████▎   | 63/99 [00:20<00:11,  3.14it/s]"
     ]
    },
    {
     "name": "stdout",
     "output_type": "stream",
     "text": [
      "Score differences: 0.14347826086956517 at 630, training acc: 1.0 and testing acc: 0.8565217391304348\n"
     ]
    },
    {
     "name": "stderr",
     "output_type": "stream",
     "text": [
      " 65%|██████▍   | 64/99 [00:21<00:11,  3.15it/s]"
     ]
    },
    {
     "name": "stdout",
     "output_type": "stream",
     "text": [
      "Score differences: 0.14347826086956517 at 640, training acc: 1.0 and testing acc: 0.8565217391304348\n"
     ]
    },
    {
     "name": "stderr",
     "output_type": "stream",
     "text": [
      " 66%|██████▌   | 65/99 [00:21<00:10,  3.16it/s]"
     ]
    },
    {
     "name": "stdout",
     "output_type": "stream",
     "text": [
      "Score differences: 0.14347826086956517 at 650, training acc: 1.0 and testing acc: 0.8565217391304348\n"
     ]
    },
    {
     "name": "stderr",
     "output_type": "stream",
     "text": [
      " 67%|██████▋   | 66/99 [00:21<00:11,  2.91it/s]"
     ]
    },
    {
     "name": "stdout",
     "output_type": "stream",
     "text": [
      "Score differences: 0.14347826086956517 at 660, training acc: 1.0 and testing acc: 0.8565217391304348\n"
     ]
    },
    {
     "name": "stderr",
     "output_type": "stream",
     "text": [
      " 68%|██████▊   | 67/99 [00:22<00:10,  2.97it/s]"
     ]
    },
    {
     "name": "stdout",
     "output_type": "stream",
     "text": [
      "Score differences: 0.14347826086956517 at 670, training acc: 1.0 and testing acc: 0.8565217391304348\n"
     ]
    },
    {
     "name": "stderr",
     "output_type": "stream",
     "text": [
      " 69%|██████▊   | 68/99 [00:22<00:10,  2.99it/s]"
     ]
    },
    {
     "name": "stdout",
     "output_type": "stream",
     "text": [
      "Score differences: 0.14347826086956517 at 680, training acc: 1.0 and testing acc: 0.8565217391304348\n"
     ]
    },
    {
     "name": "stderr",
     "output_type": "stream",
     "text": [
      " 70%|██████▉   | 69/99 [00:22<00:09,  3.03it/s]"
     ]
    },
    {
     "name": "stdout",
     "output_type": "stream",
     "text": [
      "Score differences: 0.14347826086956517 at 690, training acc: 1.0 and testing acc: 0.8565217391304348\n"
     ]
    },
    {
     "name": "stderr",
     "output_type": "stream",
     "text": [
      " 71%|███████   | 70/99 [00:23<00:09,  3.06it/s]"
     ]
    },
    {
     "name": "stdout",
     "output_type": "stream",
     "text": [
      "Score differences: 0.14347826086956517 at 700, training acc: 1.0 and testing acc: 0.8565217391304348\n"
     ]
    },
    {
     "name": "stderr",
     "output_type": "stream",
     "text": [
      " 72%|███████▏  | 71/99 [00:23<00:09,  3.08it/s]"
     ]
    },
    {
     "name": "stdout",
     "output_type": "stream",
     "text": [
      "Score differences: 0.14347826086956517 at 710, training acc: 1.0 and testing acc: 0.8565217391304348\n"
     ]
    },
    {
     "name": "stderr",
     "output_type": "stream",
     "text": [
      " 73%|███████▎  | 72/99 [00:23<00:09,  2.96it/s]"
     ]
    },
    {
     "name": "stdout",
     "output_type": "stream",
     "text": [
      "Score differences: 0.14347826086956517 at 720, training acc: 1.0 and testing acc: 0.8565217391304348\n"
     ]
    },
    {
     "name": "stderr",
     "output_type": "stream",
     "text": [
      " 74%|███████▎  | 73/99 [00:24<00:08,  3.03it/s]"
     ]
    },
    {
     "name": "stdout",
     "output_type": "stream",
     "text": [
      "Score differences: 0.14347826086956517 at 730, training acc: 1.0 and testing acc: 0.8565217391304348\n"
     ]
    },
    {
     "name": "stderr",
     "output_type": "stream",
     "text": [
      " 75%|███████▍  | 74/99 [00:24<00:08,  3.06it/s]"
     ]
    },
    {
     "name": "stdout",
     "output_type": "stream",
     "text": [
      "Score differences: 0.14347826086956517 at 740, training acc: 1.0 and testing acc: 0.8565217391304348\n"
     ]
    },
    {
     "name": "stderr",
     "output_type": "stream",
     "text": [
      " 76%|███████▌  | 75/99 [00:24<00:07,  3.10it/s]"
     ]
    },
    {
     "name": "stdout",
     "output_type": "stream",
     "text": [
      "Score differences: 0.14347826086956517 at 750, training acc: 1.0 and testing acc: 0.8565217391304348\n"
     ]
    },
    {
     "name": "stderr",
     "output_type": "stream",
     "text": [
      " 77%|███████▋  | 76/99 [00:25<00:07,  3.12it/s]"
     ]
    },
    {
     "name": "stdout",
     "output_type": "stream",
     "text": [
      "Score differences: 0.14347826086956517 at 760, training acc: 1.0 and testing acc: 0.8565217391304348\n"
     ]
    },
    {
     "name": "stderr",
     "output_type": "stream",
     "text": [
      " 78%|███████▊  | 77/99 [00:25<00:07,  3.01it/s]"
     ]
    },
    {
     "name": "stdout",
     "output_type": "stream",
     "text": [
      "Score differences: 0.14347826086956517 at 770, training acc: 1.0 and testing acc: 0.8565217391304348\n"
     ]
    },
    {
     "name": "stderr",
     "output_type": "stream",
     "text": [
      " 79%|███████▉  | 78/99 [00:25<00:06,  3.06it/s]"
     ]
    },
    {
     "name": "stdout",
     "output_type": "stream",
     "text": [
      "Score differences: 0.14347826086956517 at 780, training acc: 1.0 and testing acc: 0.8565217391304348\n"
     ]
    },
    {
     "name": "stderr",
     "output_type": "stream",
     "text": [
      " 80%|███████▉  | 79/99 [00:26<00:06,  3.09it/s]"
     ]
    },
    {
     "name": "stdout",
     "output_type": "stream",
     "text": [
      "Score differences: 0.14347826086956517 at 790, training acc: 1.0 and testing acc: 0.8565217391304348\n"
     ]
    },
    {
     "name": "stderr",
     "output_type": "stream",
     "text": [
      " 81%|████████  | 80/99 [00:26<00:06,  3.07it/s]"
     ]
    },
    {
     "name": "stdout",
     "output_type": "stream",
     "text": [
      "Score differences: 0.14347826086956517 at 800, training acc: 1.0 and testing acc: 0.8565217391304348\n"
     ]
    },
    {
     "name": "stderr",
     "output_type": "stream",
     "text": [
      " 82%|████████▏ | 81/99 [00:26<00:05,  3.11it/s]"
     ]
    },
    {
     "name": "stdout",
     "output_type": "stream",
     "text": [
      "Score differences: 0.14347826086956517 at 810, training acc: 1.0 and testing acc: 0.8565217391304348\n"
     ]
    },
    {
     "name": "stderr",
     "output_type": "stream",
     "text": [
      " 83%|████████▎ | 82/99 [00:27<00:05,  3.12it/s]"
     ]
    },
    {
     "name": "stdout",
     "output_type": "stream",
     "text": [
      "Score differences: 0.14347826086956517 at 820, training acc: 1.0 and testing acc: 0.8565217391304348\n"
     ]
    },
    {
     "name": "stderr",
     "output_type": "stream",
     "text": [
      " 84%|████████▍ | 83/99 [00:27<00:05,  3.00it/s]"
     ]
    },
    {
     "name": "stdout",
     "output_type": "stream",
     "text": [
      "Score differences: 0.14347826086956517 at 830, training acc: 1.0 and testing acc: 0.8565217391304348\n"
     ]
    },
    {
     "name": "stderr",
     "output_type": "stream",
     "text": [
      " 85%|████████▍ | 84/99 [00:27<00:04,  3.05it/s]"
     ]
    },
    {
     "name": "stdout",
     "output_type": "stream",
     "text": [
      "Score differences: 0.14347826086956517 at 840, training acc: 1.0 and testing acc: 0.8565217391304348\n"
     ]
    },
    {
     "name": "stderr",
     "output_type": "stream",
     "text": [
      " 86%|████████▌ | 85/99 [00:28<00:04,  3.08it/s]"
     ]
    },
    {
     "name": "stdout",
     "output_type": "stream",
     "text": [
      "Score differences: 0.14347826086956517 at 850, training acc: 1.0 and testing acc: 0.8565217391304348\n"
     ]
    },
    {
     "name": "stderr",
     "output_type": "stream",
     "text": [
      " 87%|████████▋ | 86/99 [00:28<00:04,  3.09it/s]"
     ]
    },
    {
     "name": "stdout",
     "output_type": "stream",
     "text": [
      "Score differences: 0.14347826086956517 at 860, training acc: 1.0 and testing acc: 0.8565217391304348\n"
     ]
    },
    {
     "name": "stderr",
     "output_type": "stream",
     "text": [
      " 88%|████████▊ | 87/99 [00:28<00:03,  3.12it/s]"
     ]
    },
    {
     "name": "stdout",
     "output_type": "stream",
     "text": [
      "Score differences: 0.14347826086956517 at 870, training acc: 1.0 and testing acc: 0.8565217391304348\n"
     ]
    },
    {
     "name": "stderr",
     "output_type": "stream",
     "text": [
      " 89%|████████▉ | 88/99 [00:29<00:03,  3.03it/s]"
     ]
    },
    {
     "name": "stdout",
     "output_type": "stream",
     "text": [
      "Score differences: 0.14347826086956517 at 880, training acc: 1.0 and testing acc: 0.8565217391304348\n"
     ]
    },
    {
     "name": "stderr",
     "output_type": "stream",
     "text": [
      " 90%|████████▉ | 89/99 [00:29<00:03,  3.05it/s]"
     ]
    },
    {
     "name": "stdout",
     "output_type": "stream",
     "text": [
      "Score differences: 0.14347826086956517 at 890, training acc: 1.0 and testing acc: 0.8565217391304348\n"
     ]
    },
    {
     "name": "stderr",
     "output_type": "stream",
     "text": [
      " 91%|█████████ | 90/99 [00:29<00:02,  3.07it/s]"
     ]
    },
    {
     "name": "stdout",
     "output_type": "stream",
     "text": [
      "Score differences: 0.14347826086956517 at 900, training acc: 1.0 and testing acc: 0.8565217391304348\n"
     ]
    },
    {
     "name": "stderr",
     "output_type": "stream",
     "text": [
      " 92%|█████████▏| 91/99 [00:30<00:02,  3.10it/s]"
     ]
    },
    {
     "name": "stdout",
     "output_type": "stream",
     "text": [
      "Score differences: 0.14347826086956517 at 910, training acc: 1.0 and testing acc: 0.8565217391304348\n"
     ]
    },
    {
     "name": "stderr",
     "output_type": "stream",
     "text": [
      " 93%|█████████▎| 92/99 [00:30<00:02,  3.08it/s]"
     ]
    },
    {
     "name": "stdout",
     "output_type": "stream",
     "text": [
      "Score differences: 0.14347826086956517 at 920, training acc: 1.0 and testing acc: 0.8565217391304348\n"
     ]
    },
    {
     "name": "stderr",
     "output_type": "stream",
     "text": [
      " 94%|█████████▍| 93/99 [00:30<00:01,  3.11it/s]"
     ]
    },
    {
     "name": "stdout",
     "output_type": "stream",
     "text": [
      "Score differences: 0.14347826086956517 at 930, training acc: 1.0 and testing acc: 0.8565217391304348\n"
     ]
    },
    {
     "name": "stderr",
     "output_type": "stream",
     "text": [
      " 95%|█████████▍| 94/99 [00:31<00:01,  3.01it/s]"
     ]
    },
    {
     "name": "stdout",
     "output_type": "stream",
     "text": [
      "Score differences: 0.14347826086956517 at 940, training acc: 1.0 and testing acc: 0.8565217391304348\n"
     ]
    },
    {
     "name": "stderr",
     "output_type": "stream",
     "text": [
      " 96%|█████████▌| 95/99 [00:31<00:01,  3.06it/s]"
     ]
    },
    {
     "name": "stdout",
     "output_type": "stream",
     "text": [
      "Score differences: 0.14347826086956517 at 950, training acc: 1.0 and testing acc: 0.8565217391304348\n"
     ]
    },
    {
     "name": "stderr",
     "output_type": "stream",
     "text": [
      " 97%|█████████▋| 96/99 [00:31<00:00,  3.07it/s]"
     ]
    },
    {
     "name": "stdout",
     "output_type": "stream",
     "text": [
      "Score differences: 0.14347826086956517 at 960, training acc: 1.0 and testing acc: 0.8565217391304348\n"
     ]
    },
    {
     "name": "stderr",
     "output_type": "stream",
     "text": [
      " 98%|█████████▊| 97/99 [00:31<00:00,  3.09it/s]"
     ]
    },
    {
     "name": "stdout",
     "output_type": "stream",
     "text": [
      "Score differences: 0.14347826086956517 at 970, training acc: 1.0 and testing acc: 0.8565217391304348\n"
     ]
    },
    {
     "name": "stderr",
     "output_type": "stream",
     "text": [
      " 99%|█████████▉| 98/99 [00:32<00:00,  3.12it/s]"
     ]
    },
    {
     "name": "stdout",
     "output_type": "stream",
     "text": [
      "Score differences: 0.14347826086956517 at 980, training acc: 1.0 and testing acc: 0.8565217391304348\n"
     ]
    },
    {
     "name": "stderr",
     "output_type": "stream",
     "text": [
      "100%|██████████| 99/99 [00:32<00:00,  3.03it/s]"
     ]
    },
    {
     "name": "stdout",
     "output_type": "stream",
     "text": [
      "Score differences: 0.14347826086956517 at 990, training acc: 1.0 and testing acc: 0.8565217391304348\n"
     ]
    },
    {
     "name": "stderr",
     "output_type": "stream",
     "text": [
      "\n"
     ]
    },
    {
     "data": {
      "image/png": "[encoded data removed]",
      "text/plain": [
       "<Figure size 640x480 with 1 Axes>"
      ]
     },
     "metadata": {},
     "output_type": "display_data"
    },
    {
     "name": "stderr",
     "output_type": "stream",
     "text": [
      "  8%|▊         | 2/25 [00:00<00:03,  6.66it/s]"
     ]
    },
    {
     "name": "stdout",
     "output_type": "stream",
     "text": [
      "Score differences: 0.08104145601617796 at 10, training acc: 0.9593023255813954 and testing acc: 0.8782608695652174\n",
      "Score differences: 0.09701718907987866 at 20, training acc: 0.9709302325581395 and testing acc: 0.8739130434782608\n"
     ]
    },
    {
     "name": "stderr",
     "output_type": "stream",
     "text": [
      " 16%|█▌        | 4/25 [00:00<00:03,  6.89it/s]"
     ]
    },
    {
     "name": "stdout",
     "output_type": "stream",
     "text": [
      "Score differences: 0.10860717896865513 at 30, training acc: 0.9694767441860465 and testing acc: 0.8608695652173913\n",
      "Score differences: 0.10281850353892819 at 40, training acc: 0.9723837209302325 and testing acc: 0.8695652173913043\n"
     ]
    },
    {
     "name": "stderr",
     "output_type": "stream",
     "text": [
      " 24%|██▍       | 6/25 [00:00<00:02,  6.85it/s]"
     ]
    },
    {
     "name": "stdout",
     "output_type": "stream",
     "text": [
      "Score differences: 0.10571284125379166 at 50, training acc: 0.9709302325581395 and testing acc: 0.8652173913043478\n",
      "Score differences: 0.10281850353892819 at 60, training acc: 0.9723837209302325 and testing acc: 0.8695652173913043\n"
     ]
    },
    {
     "name": "stderr",
     "output_type": "stream",
     "text": [
      " 32%|███▏      | 8/25 [00:01<00:02,  6.38it/s]"
     ]
    },
    {
     "name": "stdout",
     "output_type": "stream",
     "text": [
      "Score differences: 0.11007330637007073 at 70, training acc: 0.9752906976744186 and testing acc: 0.8652173913043478\n",
      "Score differences: 0.10716632962588468 at 80, training acc: 0.9723837209302325 and testing acc: 0.8652173913043478\n"
     ]
    },
    {
     "name": "stderr",
     "output_type": "stream",
     "text": [
      " 40%|████      | 10/25 [00:01<00:02,  6.60it/s]"
     ]
    },
    {
     "name": "stdout",
     "output_type": "stream",
     "text": [
      "Score differences: 0.10861981799797771 at 90, training acc: 0.9738372093023255 and testing acc: 0.8652173913043478\n",
      "Score differences: 0.11586198179979768 at 100, training acc: 0.9723837209302325 and testing acc: 0.8565217391304348\n"
     ]
    },
    {
     "name": "stderr",
     "output_type": "stream",
     "text": [
      " 48%|████▊     | 12/25 [00:01<00:01,  6.67it/s]"
     ]
    },
    {
     "name": "stdout",
     "output_type": "stream",
     "text": [
      "Score differences: 0.10717896865520726 at 110, training acc: 0.9767441860465116 and testing acc: 0.8695652173913043\n",
      "Score differences: 0.1231294236602628 at 120, training acc: 0.9796511627906976 and testing acc: 0.8565217391304348\n"
     ]
    },
    {
     "name": "stderr",
     "output_type": "stream",
     "text": [
      " 56%|█████▌    | 14/25 [00:02<00:01,  6.72it/s]"
     ]
    },
    {
     "name": "stdout",
     "output_type": "stream",
     "text": [
      "Score differences: 0.09701718907987866 at 130, training acc: 0.9709302325581395 and testing acc: 0.8739130434782608\n",
      "Score differences: 0.10717896865520726 at 140, training acc: 0.9767441860465116 and testing acc: 0.8695652173913043\n"
     ]
    },
    {
     "name": "stderr",
     "output_type": "stream",
     "text": [
      " 64%|██████▍   | 16/25 [00:02<00:01,  6.75it/s]"
     ]
    },
    {
     "name": "stdout",
     "output_type": "stream",
     "text": [
      "Score differences: 0.1129676440849342 at 150, training acc: 0.9738372093023255 and testing acc: 0.8608695652173913\n",
      "Score differences: 0.11442113245702723 at 160, training acc: 0.9752906976744186 and testing acc: 0.8608695652173913\n"
     ]
    },
    {
     "name": "stderr",
     "output_type": "stream",
     "text": [
      " 72%|███████▏  | 18/25 [00:02<00:01,  6.61it/s]"
     ]
    },
    {
     "name": "stdout",
     "output_type": "stream",
     "text": [
      "Score differences: 0.1129676440849342 at 170, training acc: 0.9738372093023255 and testing acc: 0.8608695652173913\n",
      "Score differences: 0.11152679474216376 at 180, training acc: 0.9767441860465116 and testing acc: 0.8652173913043478\n"
     ]
    },
    {
     "name": "stderr",
     "output_type": "stream",
     "text": [
      " 80%|████████  | 20/25 [00:03<00:00,  6.34it/s]"
     ]
    },
    {
     "name": "stdout",
     "output_type": "stream",
     "text": [
      "Score differences: 0.1129676440849342 at 190, training acc: 0.9738372093023255 and testing acc: 0.8608695652173913\n",
      "Score differences: 0.12167593528816978 at 200, training acc: 0.9781976744186046 and testing acc: 0.8565217391304348\n"
     ]
    },
    {
     "name": "stderr",
     "output_type": "stream",
     "text": [
      " 88%|████████▊ | 22/25 [00:03<00:00,  6.53it/s]"
     ]
    },
    {
     "name": "stdout",
     "output_type": "stream",
     "text": [
      "Score differences: 0.1129676440849342 at 210, training acc: 0.9738372093023255 and testing acc: 0.8608695652173913\n",
      "Score differences: 0.1129676440849342 at 220, training acc: 0.9738372093023255 and testing acc: 0.8608695652173913\n"
     ]
    },
    {
     "name": "stderr",
     "output_type": "stream",
     "text": [
      " 96%|█████████▌| 24/25 [00:03<00:00,  6.63it/s]"
     ]
    },
    {
     "name": "stdout",
     "output_type": "stream",
     "text": [
      "Score differences: 0.1129676440849342 at 230, training acc: 0.9738372093023255 and testing acc: 0.8608695652173913\n",
      "Score differences: 0.1129676440849342 at 240, training acc: 0.9738372093023255 and testing acc: 0.8608695652173913\n"
     ]
    },
    {
     "name": "stderr",
     "output_type": "stream",
     "text": [
      "100%|██████████| 25/25 [00:03<00:00,  6.62it/s]\n"
     ]
    },
    {
     "name": "stdout",
     "output_type": "stream",
     "text": [
      "Score differences: 0.1129676440849342 at 250, training acc: 0.9738372093023255 and testing acc: 0.8608695652173913\n"
     ]
    },
    {
     "data": {
      "image/png": "[encoded data removed]",
      "text/plain": [
       "<Figure size 640x480 with 1 Axes>"
      ]
     },
     "metadata": {},
     "output_type": "display_data"
    }
   ],
   "source": [
    "\n",
    "\n",
    "changed_parameter = []\n",
    "training_scores = []\n",
    "testing_scores = []\n",
    "\n",
    "\n",
    "\n",
    "for n_est in tqdm(range(10, 1000, 10)):\n",
    "        classy = HistGradientBoostingClassifier(max_leaf_nodes=n_est)\n",
    "        changed_parameter.append(int(n_est))\n",
    "        classy.fit(x_train_scaled, y_train)\n",
    "        testing_scores.append(classy.score(x_test_scaled, y_test))\n",
    "        training_scores.append(classy.score(x_train_scaled, y_train))\n",
    "        print(f\"Score differences: {training_scores[-1] - testing_scores[-1]} at {int(n_est)}, training acc: {training_scores[-1]} and testing acc: {testing_scores[-1]}\")\n",
    "\n",
    "\n",
    "        \n",
    "fig, ax = plt.subplots()\n",
    "ax.scatter(changed_parameter, testing_scores, c=\"blue\", label=\"Testing\")\n",
    "ax.scatter(changed_parameter, training_scores, c=\"red\", label=\"Training\")\n",
    "ax.legend()\n",
    "X_text = \"Maximum Leaf Nodes\"\n",
    "plt.title(f\"{X_text} versus Accuracy\")\n",
    "plt.xlabel(X_text)\n",
    "plt.ylabel(\"Accuracy\")\n",
    "plt.show()\n",
    "\n",
    "\n",
    "\n",
    "changed_parameter = []\n",
    "training_scores = []\n",
    "testing_scores = []\n",
    "\n",
    "\n",
    "\n",
    "for split in tqdm(range(10, 255, 10)):\n",
    "        classy = HistGradientBoostingClassifier(max_leaf_nodes=10, max_bins=split)\n",
    "        changed_parameter.append(split)\n",
    "        classy.fit(x_train_scaled, y_train)\n",
    "        testing_scores.append(classy.score(x_test_scaled, y_test))\n",
    "        training_scores.append(classy.score(x_train_scaled, y_train))\n",
    "        print(f\"Score differences: {training_scores[-1] - testing_scores[-1]} at {split}, training acc: {training_scores[-1]} and testing acc: {testing_scores[-1]}\")\n",
    "\n",
    "\n",
    "        \n",
    "fig, ax = plt.subplots()\n",
    "ax.scatter(changed_parameter, testing_scores, c=\"blue\", label=\"Testing\")\n",
    "ax.scatter(changed_parameter, training_scores, c=\"red\", label=\"Training\")\n",
    "ax.legend()\n",
    "X_text = \"Maximum Bins\"\n",
    "plt.title(f\"{X_text} versus Accuracy\")\n",
    "plt.xlabel(X_text)\n",
    "plt.ylabel(\"Accuracy\")\n",
    "plt.show()\n",
    "\n"
   ]
  },
  {
   "cell_type": "code",
   "execution_count": 52,
   "metadata": {},
   "outputs": [
    {
     "name": "stderr",
     "output_type": "stream",
     "text": [
      "100%|██████████| 20/20 [14:25<00:00, 43.27s/it]\n"
     ]
    }
   ],
   "source": [
    "\n",
    "data = {}\n",
    "data['minimum_sample_split'] = []\n",
    "data['n_estimators'] = []\n",
    "data['minimum_sample_leaf'] = []\n",
    "data['minimum_impurity_decrease'] = []\n",
    "data['training_accuracy'] = []\n",
    "data['testing_accuracy'] = []\n",
    "data['accuracy_differences'] = []\n",
    "\n",
    "\n",
    "\n",
    "#The graphs above confirm that the RandomForestClassifier has the best performance, therefore \n",
    "# find the combination of parameters that produce each training and testing scores and save it to a csv.\n",
    "for n_est in tqdm(range(30, 70, 2)):\n",
    "        for min_split in range(3, 21, 2):\n",
    "                for min_leaf in np.arange(0.01, 1, 0.05):\n",
    "                        for impure in np.arange(0.0, 0.11, 0.05):\n",
    "                                classy = RandomForestClassifier(n_estimators=n_est, min_samples_split=min_split, \n",
    "                                                                min_samples_leaf=min_leaf, min_impurity_decrease=impure)\n",
    "                                classy.fit(x_train_scaled, y_train)\n",
    "                                train_score = classy.score(x_train_scaled, y_train)\n",
    "                                test_score = classy.score(x_test_scaled, y_test)\n",
    "                                data['testing_accuracy'].append(test_score)\n",
    "                                data['training_accuracy'].append(train_score)\n",
    "                                data['minimum_sample_split'].append(min_split)\n",
    "                                data['minimum_sample_leaf'].append(min_leaf)\n",
    "                                data['minimum_impurity_decrease'].append(impure)\n",
    "                                data['n_estimators'].append(int(n_est))\n",
    "                                data['accuracy_differences'].append(abs(train_score-test_score))\n",
    "                                \n",
    "data = pd.DataFrame(data)\n",
    "data.to_csv(\"RandomForestResults.csv\")\n",
    "\n",
    "\n"
   ]
  },
  {
   "cell_type": "code",
   "execution_count": null,
   "metadata": {},
   "outputs": [],
   "source": []
  }
 ],
 "metadata": {
  "kernelspec": {
   "display_name": "dev",
   "language": "python",
   "name": "python3"
  },
  "language_info": {
   "codemirror_mode": {
    "name": "ipython",
    "version": 3
   },
   "file_extension": ".py",
   "mimetype": "text/x-python",
   "name": "python",
   "nbconvert_exporter": "python",
   "pygments_lexer": "ipython3",
   "version": "3.10.14"
  }
 },
 "nbformat": 4,
 "nbformat_minor": 2
}
